{
 "cells": [
  {
   "cell_type": "code",
   "execution_count": 1,
   "metadata": {},
   "outputs": [],
   "source": [
    "using PyPlot\n",
    "using Random"
   ]
  },
  {
   "cell_type": "code",
   "execution_count": 3,
   "metadata": {},
   "outputs": [],
   "source": [
    "struct controls\n",
    "    reduce::Array{Float64,1}\n",
    "    remove::Array{Float64,1}\n",
    "    geoeng::Array{Float64,1}\n",
    "    adapt::Array{Float64,1}\n",
    "end\n",
    "\n",
    "nondim_linear(t::Array) = (t .- t[1])/(t[end] - t[1]);\n",
    "\n",
    "function init_linear_controls(t)\n",
    "    c = controls(\n",
    "        nondim_linear(t),\n",
    "        nondim_linear(t)/3.,\n",
    "        nondim_linear(t)/8.,\n",
    "        nondim_linear(t)/10.\n",
    "    )\n",
    "    return c\n",
    "end\n",
    "\n",
    "struct ClimateModel\n",
    "    name::String\n",
    "    ECS::Float64\n",
    "    controls::controls\n",
    "end\n"
   ]
  },
  {
   "cell_type": "code",
   "execution_count": 7,
   "metadata": {},
   "outputs": [],
   "source": [
    "t = Array(2020:1.:2100);\n",
    "c = init_linear_controls(t)\n",
    "model = ClimateModel(\"test\", 3.0, c);"
   ]
  },
  {
   "cell_type": "code",
   "execution_count": 10,
   "metadata": {},
   "outputs": [
    {
     "data": {
      "text/plain": [
       "optimize_climate (generic function with 1 method)"
      ]
     },
     "execution_count": 10,
     "metadata": {},
     "output_type": "execute_result"
    }
   ],
   "source": [
    "function optimize_climate(ECS::Float64)\n",
    "    \n",
    "    # discretization\n",
    "    t = Array(2020:1.:2100);\n",
    "\n",
    "    # CO2 concentration (ppm) at t[1]\n",
    "    c_00 = 415.;\n",
    "\n",
    "\n",
    "    # economic parameters\n",
    "    β = 1.; # damage parameter (10^12 $ / C^2)\n",
    "    ρ = 0.02 # utility discount rate\n",
    "\n",
    "    GWP = 100. # Global World Product (10^12 $/yr)\n",
    "    C_ϕ = 0.05*GWP; # carbon removal (10^12 $/yr)\n",
    "    C_φ = 0.05*GWP; # emissions reductions (10^12 $/yr)\n",
    "    C_χ = 0.1*GWP; # adaptation (10^12 $/yr)\n",
    "    C_λ = 0.15*GWP; # geoengineering (10^12 $/yr)\n",
    "\n",
    "    # baseline emissions scenarios\n",
    "    q = 5. .* ones(size(t)); # emissions scenario\n",
    "    q[40:81] .= q[1] * (40. .-(0.:1.:41.))/40.\n",
    "    q[81:end] .= 0.\n",
    "\n",
    "    # physical climate parameters\n",
    "    ϵ = ECS/log(2.); # Transient Warming Parameter\n",
    "    δT_00 = 1.1; # Warming at t[1] since preindustrial\n",
    "\n",
    "    c_0 = c_00 .+ cumsum(q); # cumulative CO2 concentrations (ppm)\n",
    "    δT_0 = δT_00 .+ ϵ.*log.(c_0/c_00); # warming due to baseline emissions scenario\n",
    "\n",
    "    D_0 = β .* δT_0.^2; # baseline damages (10^12 $)\n",
    "    discounting = (1. / (1. + ρ)).^(t.-t[1])\n",
    "\n",
    "    nondim_linear(t::Array) = (t .- t[1])/(t[end] - t[1]);\n",
    "    ϕ = nondim_linear(t); # carbon removal\n",
    "    ϕ[t.>2100] .= ϕ[t.==2100]\n",
    "    φ = nondim_linear(t)/3.; # emissions reductions\n",
    "    χ = nondim_linear(t)/8.; # adaptation\n",
    "    λ = nondim_linear(t)/10.; # geoengineering\n",
    "\n",
    "    f_low(α::Array) = (α ./ (1. .+ α)).^2 # shape of individual cost functions\n",
    "    f_med(α::Array) = α.^2 # shape of individual cost functions\n",
    "    f_high(α::Array) = (α ./ (1. .- α)).^2 # shape of individual cost functions\n",
    "\n",
    "\n",
    "    c(ϕ::Array, φ::Array) = c_0 .- cumsum(q .* φ) .- cumsum(q[1] .* ϕ);\n",
    "    δT(ϕ::Array, φ::Array) = δT_00 .+ ϵ.*log.(c(ϕ,φ)./c_00);\n",
    "\n",
    "    D(ϕ::Array, φ::Array, χ::Array, λ::Array) = (1. .- χ) .* β .* δT(ϕ, φ).^2 .* (1. .- λ).^2;\n",
    "\n",
    "    C(ϕ::Array, φ::Array, χ::Array, λ::Array) = C_λ.*f_med(λ) .+ C_ϕ.*f_med(ϕ) .+ C_φ.*f_med(φ) .+ C_χ.*f_med(χ);\n",
    "    T(ϕ::Array, φ::Array, χ::Array, λ::Array) = (\n",
    "        sum((C(ϕ, φ, χ, λ) .+ D(ϕ, φ, χ, λ)) .* (1. / (1. + ρ)).^(t.-t[1])) .+\n",
    "        200. * (sum(diff(ϕ).^2) .+ sum(diff(φ).^2) .+ sum(diff(χ).^2) .+ sum(diff(λ).^2)) .+\n",
    "        200. .* (ϕ[1].^2 .+ φ[1].^2 .+ χ[1].^2 .+ λ[1].^2)\n",
    "    );\n",
    "\n",
    "    function ∇T(ϕ::Array, φ::Array, χ::Array, λ::Array)\n",
    "        Δα = 1.e-5\n",
    "        ∂T∂ϕ = zeros(size(ϕ))\n",
    "        ∂T∂φ = zeros(size(φ))\n",
    "        ∂T∂χ = zeros(size(χ))\n",
    "        ∂T∂λ = zeros(size(λ))\n",
    "        for i=1:length(ϕ)\n",
    "            δα = zeros(size(ϕ))\n",
    "            δα[i] = Δα\n",
    "            ∂T∂ϕ[i] = (T(ϕ.+δα,φ,χ,λ) .- T(ϕ,φ,χ,λ))/Δα\n",
    "            ∂T∂φ[i] = (T(ϕ,φ.+δα,χ,λ) .- T(ϕ,φ,χ,λ))/Δα\n",
    "            ∂T∂χ[i] = (T(ϕ,φ,χ.+δα,λ) .- T(ϕ,φ,χ,λ))/Δα\n",
    "            ∂T∂λ[i] = (T(ϕ,φ,χ,λ.+δα) .- T(ϕ,φ,χ,λ))/Δα\n",
    "        end\n",
    "\n",
    "        return (∂T∂ϕ, ∂T∂φ, ∂T∂χ, ∂T∂λ)\n",
    "    end\n",
    "\n",
    "    function convergence(∇T, tol = 1.e-6)\n",
    "        norm = 0.\n",
    "        for ∂T∂α = ∇T\n",
    "            norm += sum(∂T∂α.^2)\n",
    "        end\n",
    "        return norm < tol\n",
    "    end\n",
    "\n",
    "    count = 1\n",
    "    vprevious = [0., 0., 0., 0.]\n",
    "    print(\"Beginning optimization: \")\n",
    "    while convergence(∇T(ϕ, φ, χ, λ), 1.e-6) == false\n",
    "        ∇ = ∇T(ϕ, φ, χ, λ)\n",
    "        norm = 0.\n",
    "        for ∂T∂α = ∇\n",
    "            norm += sum(∂T∂α.^2)\n",
    "        end\n",
    "        Δs = 1.e-3 # learning rate\n",
    "        γ = 0.9 # momentum fraction\n",
    "        v = [∇[1].*Δs .+ γ*vprevious[1],\n",
    "             ∇[2].*Δs .+ γ*vprevious[2],\n",
    "             ∇[3].*Δs .+ γ*vprevious[3],\n",
    "             ∇[4].*Δs .+ γ*vprevious[4]]\n",
    "        ϕ .-= v[1]\n",
    "        φ .-= v[2]\n",
    "        χ .-= v[3]\n",
    "        λ .-= v[4]\n",
    "        count+=1\n",
    "\n",
    "        vprevious = copy(v)\n",
    "\n",
    "        if count>400\n",
    "            break\n",
    "        end\n",
    "    end\n",
    "    print(\"converged.\\n\")\n",
    "\n",
    "    return (ϕ, φ, χ, λ)\n",
    "\n",
    "end"
   ]
  },
  {
   "cell_type": "code",
   "execution_count": 21,
   "metadata": {},
   "outputs": [
    {
     "name": "stdout",
     "output_type": "stream",
     "text": [
      "Beginning optimization: converged.\n",
      "Beginning optimization: converged.\n",
      "Beginning optimization: converged.\n",
      "Beginning optimization: converged.\n",
      "Beginning optimization: converged.\n",
      "Beginning optimization: converged.\n",
      "Beginning optimization: converged.\n",
      "Beginning optimization: converged.\n",
      "Beginning optimization: converged.\n",
      "Beginning optimization: converged.\n",
      "Beginning optimization: converged.\n"
     ]
    }
   ],
   "source": [
    "ECS_vec = 2.5:0.1:3.5\n",
    "controls = zeros((length(ECS_vec), 81, 4))\n",
    "\n",
    "for (idx, ECS) in enumerate(ECS_vec)\n",
    "    (ϕ, φ, χ, λ) = optimize_climate(ECS)\n",
    "    controls[idx,:,1] = ϕ\n",
    "    controls[idx,:,1] = φ\n",
    "    controls[idx,:,1] = χ\n",
    "    controls[idx,:,1] = λ\n",
    "end"
   ]
  },
  {
   "cell_type": "code",
   "execution_count": 22,
   "metadata": {},
   "outputs": [
    {
     "data": {
      "image/png": "[encoded data removed]",
      "text/plain": [
       "Figure(PyObject <Figure size 640x480 with 1 Axes>)"
      ]
     },
     "metadata": {},
     "output_type": "display_data"
    }
   ],
   "source": [
    "for (idx, ECS) in enumerate(ECS_vec)\n",
    "    plot(controls[idx,:,1])\n",
    "end"
   ]
  },
  {
   "cell_type": "markdown",
   "metadata": {},
   "source": [
    "#### Using julia Types?\n",
    "```julia\n",
    "struct WorldModel\n",
    "    name::String\n",
    "    ECS::Float64\n",
    "end\n",
    "\n",
    "mymodel = WorldModel(\"test\", 3.)\n",
    "\n",
    "struct controls\n",
    "    reduce::Array{Float64,1}\n",
    "    remove::Array{Float64,1}\n",
    "    geoeng::Array{Float64,1}\n",
    "    adapt::Array{Float64,1}\n",
    "end\n",
    "```\n",
    "\n"
   ]
  },
  {
   "cell_type": "code",
   "execution_count": null,
   "metadata": {},
   "outputs": [],
   "source": []
  },
  {
   "cell_type": "code",
   "execution_count": null,
   "metadata": {},
   "outputs": [],
   "source": []
  }
 ],
 "metadata": {
  "kernelspec": {
   "display_name": "Julia 1.2.0",
   "language": "julia",
   "name": "julia-1.2"
  },
  "language_info": {
   "file_extension": ".jl",
   "mimetype": "application/julia",
   "name": "julia",
   "version": "1.2.0"
  }
 },
 "nbformat": 4,
 "nbformat_minor": 4
}
