{
 "cells": [
  {
   "cell_type": "code",
   "execution_count": null,
   "metadata": {},
   "outputs": [],
   "source": [
    "using PyPlot"
   ]
  },
  {
   "cell_type": "code",
   "execution_count": 7,
   "metadata": {},
   "outputs": [],
   "source": [
    "t = 2020:2100 # years\n",
    "CO₂⁰ = 415    # concentration(ppm) initially\n",
    "\n",
    "# physical climate parameters\n",
    "ECS = 3        # Equilibrium Climate Sensitivity\n",
    "ϵ = ECS/log(2) # Transient Warming Parameter\n",
    "δT₀⁰ = 1.1;    # Warming: initial, preindustrial"
   ]
  },
  {
   "cell_type": "code",
   "execution_count": 8,
   "metadata": {},
   "outputs": [
    {
     "data": {
      "text/plain": [
       "150"
      ]
     },
     "execution_count": 8,
     "metadata": {},
     "output_type": "execute_result"
    }
   ],
   "source": [
    "# baseline emissions scenarios\n",
    "q = fill(2,size(t)) # emissions scenario\n",
    "c₀ = CO₂⁰ .+ cumsum(q); # cumulative CO2 concentrations (ppm)\n",
    "δT_0 = δT₀⁰ .+ ϵ.*log.(c₀/CO₂⁰) # warming due to baseline emissions scenario\n",
    "\n",
    "# economic parameters\n",
    "β = 2.2 # damage parameter (trillion dolars / C^2)\n",
    "D_0 = β .* δT₀⁰.^2; # baseline damages\n",
    "γ = 0 #1. /30. # discount rate\n",
    "C_ϕ = 400 # trillion $\n",
    "C_φ = 100 # trillion $\n",
    "C_χ = 150 # trillion $\n",
    "C_λ = 150 # trillion $"
   ]
  },
  {
   "cell_type": "code",
   "execution_count": 9,
   "metadata": {},
   "outputs": [
    {
     "data": {
      "text/plain": [
       "T (generic function with 1 method)"
      ]
     },
     "execution_count": 9,
     "metadata": {},
     "output_type": "execute_result"
    }
   ],
   "source": [
    "c(ϕ::Array, φ::Array) = (c₀ .- cumsum(q .* φ)) .* (1. .- ϕ);\n",
    "δT(ϕ::Array, φ::Array) = δT_00 .+ ϵ.*log.(c(ϕ,φ)./c_00);\n",
    "\n",
    "f_low(α::Array) = (α ./ (1. .+α)).^2 # shape of individual cost functions\n",
    "\n",
    "D(ϕ::Array, φ::Array, χ::Array, λ::Array) = (1. .- χ) .* β .* δT(ϕ, φ).^2 .* (1. .- λ).^2;\n",
    "C(ϕ::Array, φ::Array, χ::Array, λ::Array) = C_λ.*f_low(λ) .+ C_ϕ.*f_low(ϕ) .+ C_φ.*f_low(φ) .+ C_χ.*f_low(χ);\n",
    "T(ϕ::Array, φ::Array, χ::Array, λ::Array) = (\n",
    "    sum((C(ϕ, φ, χ, λ) .+ D(ϕ, φ, χ, λ)) .* exp.(.-γ.*(t.-t[1]))) .+\n",
    "    1000. * (sum(diff(ϕ).^2) .+ sum(diff(φ).^2) .+ sum(diff(χ).^2) .+ sum(diff(λ).^2)) .+\n",
    "    1000. .* (ϕ[1].^2 .+ φ[1].^2 .+ χ[1].^2 .+ λ[1].^2)\n",
    ")"
   ]
  },
  {
   "cell_type": "markdown",
   "metadata": {},
   "source": [
    "## Gradient descent cost minimization"
   ]
  },
  {
   "cell_type": "code",
   "execution_count": 10,
   "metadata": {},
   "outputs": [
    {
     "data": {
      "text/plain": [
       "convergence (generic function with 2 methods)"
      ]
     },
     "execution_count": 10,
     "metadata": {},
     "output_type": "execute_result"
    }
   ],
   "source": [
    "function ∇T(ϕ::Array, φ::Array, χ::Array, λ::Array)\n",
    "    Δα = 1.e-4\n",
    "    ∂T∂ϕ = zeros(size(ϕ))\n",
    "    ∂T∂φ = zeros(size(φ))\n",
    "    ∂T∂χ = zeros(size(χ))\n",
    "    ∂T∂λ = zeros(size(λ))\n",
    "    for i=1:length(ϕ)\n",
    "        δα = zeros(size(ϕ))\n",
    "        δα[i] = Δα\n",
    "        ∂T∂ϕ[i] = (T(ϕ.+δα,φ,χ,λ) .- T(ϕ,φ,χ,λ))/Δα\n",
    "        ∂T∂φ[i] = (T(ϕ,φ.+δα,χ,λ) .- T(ϕ,φ,χ,λ))/Δα\n",
    "        ∂T∂χ[i] = (T(ϕ,φ,χ.+δα,λ) .- T(ϕ,φ,χ,λ))/Δα\n",
    "        ∂T∂λ[i] = (T(ϕ,φ,χ,λ.+δα) .- T(ϕ,φ,χ,λ))/Δα\n",
    "    end\n",
    "    \n",
    "    return (∂T∂ϕ, ∂T∂φ, ∂T∂χ, ∂T∂λ)\n",
    "end\n",
    "\n",
    "function convergence(∇T, tol = 1.e-6)\n",
    "    norm = 0.\n",
    "    for ∂T∂α = ∇T\n",
    "        norm += sum(∂T∂α.^2)\n",
    "    end\n",
    "    return norm < tol\n",
    "end"
   ]
  },
  {
   "cell_type": "markdown",
   "metadata": {},
   "source": [
    "#### initial guess"
   ]
  },
  {
   "cell_type": "code",
   "execution_count": 11,
   "metadata": {},
   "outputs": [
    {
     "ename": "MethodError",
     "evalue": "MethodError: no method matching nondim_linear(::UnitRange{Int64})\nClosest candidates are:\n  nondim_linear(!Matched::Array) at In[11]:3",
     "output_type": "error",
     "traceback": [
      "MethodError: no method matching nondim_linear(::UnitRange{Int64})\nClosest candidates are:\n  nondim_linear(!Matched::Array) at In[11]:3",
      "",
      "Stacktrace:",
      " [1] top-level scope at In[11]:4"
     ]
    }
   ],
   "source": [
    "# Example control trajectories\n",
    "# (picked because cost of controls + cost of controlled damage < uncontrolled damage)\n",
    "nondim_linear(t::Array) = (t .- t[1])/(t[end] - t[1]);\n",
    "ϕ = nondim_linear(t)/8.;\n",
    "φ = nondim_linear(t)/8.;\n",
    "λ = nondim_linear(t)/8.;\n",
    "χ = nondim_linear(t)/8.;"
   ]
  },
  {
   "cell_type": "code",
   "execution_count": null,
   "metadata": {},
   "outputs": [],
   "source": [
    "count = 1\n",
    "while convergence(∇T(ϕ, φ, χ, λ), 1.e-8) == false\n",
    "    norm = 0.\n",
    "    for ∂T∂α = ∇T(ϕ, φ, χ, λ)\n",
    "        norm += sum(∂T∂α.^2)\n",
    "    end\n",
    "    print(norm, \" \")\n",
    "    Δs = 1.e-4\n",
    "    ϕ .-= ∇T(ϕ, φ, χ, λ)[1].*Δs\n",
    "    φ .-= ∇T(ϕ, φ, χ, λ)[2].*Δs\n",
    "    χ .-= ∇T(ϕ, φ, χ, λ)[3].*Δs\n",
    "    λ .-= ∇T(ϕ, φ, χ, λ)[4].*Δs\n",
    "    count+=1\n",
    "end"
   ]
  },
  {
   "cell_type": "code",
   "execution_count": null,
   "metadata": {},
   "outputs": [],
   "source": [
    "plot(t, ϕ, label=L\"$\\phi$ (negative emissions)\")\n",
    "plot(t, φ, label=L\"$\\varphi$ (emissions reductions)\")\n",
    "plot(t, χ, label=L\"$\\chi$ (adaptation)\")\n",
    "plot(t, λ, label=L\"$\\lambda$ (geoengineering)\")\n",
    "legend()"
   ]
  },
  {
   "cell_type": "code",
   "execution_count": null,
   "metadata": {},
   "outputs": [],
   "source": [
    "plot(t,c(ϕ,φ), label=L\"$c_{\\phi,\\varphi}(t)$\")\n",
    "plot(t,, label=L\"$c_{0}(t)$\")\n",
    "legend()"
   ]
  },
  {
   "cell_type": "code",
   "execution_count": null,
   "metadata": {},
   "outputs": [],
   "source": [
    "plot(t,δT(ϕ, φ), label=L\"\\delta T_{\\varphi,\\phi}\")\n",
    "plot(t,δT_0, label=L\"\\delta T_{0}\")\n",
    "plot(t,2.0.*ones(size(t)),\"k--\", label=\"Paris Goal\")\n",
    "legend()\n",
    "title(\"temperature change (since pre-industrial)\")"
   ]
  },
  {
   "cell_type": "code",
   "execution_count": null,
   "metadata": {},
   "outputs": [],
   "source": [
    "plot(t, D(ϕ, φ, χ, λ))\n",
    "title(L\"Damages in trillions of $\\$$\")"
   ]
  },
  {
   "cell_type": "code",
   "execution_count": null,
   "metadata": {},
   "outputs": [],
   "source": [
    "plot(t, C(ϕ, φ, χ, λ) + D(ϕ, φ, χ, λ), label=\"total cost\")\n",
    "plot(t, C(ϕ, φ, χ, λ), label=\"controls cost\")\n",
    "plot(t, D(ϕ, φ, χ, λ), label=\"damage cost\")\n",
    "plot(t, D_0, label=\"uncontrolled damages\")\n",
    "legend()\n",
    "title(\"costs in trillions\")"
   ]
  },
  {
   "cell_type": "code",
   "execution_count": null,
   "metadata": {},
   "outputs": [],
   "source": []
  },
  {
   "cell_type": "code",
   "execution_count": null,
   "metadata": {},
   "outputs": [],
   "source": []
  }
 ],
 "metadata": {
  "@webio": {
   "lastCommId": null,
   "lastKernelId": null
  },
  "kernelspec": {
   "display_name": "Julia 1.2.0",
   "language": "julia",
   "name": "julia-1.2"
  },
  "language_info": {
   "file_extension": ".jl",
   "mimetype": "application/julia",
   "name": "julia",
   "version": "1.2.0"
  }
 },
 "nbformat": 4,
 "nbformat_minor": 4
}
