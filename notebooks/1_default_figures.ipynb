{
 "cells": [
  {
   "cell_type": "code",
   "execution_count": 151,
   "metadata": {},
   "outputs": [],
   "source": [
    "using PyPlot, PyCall\n",
    "using JuMP, Ipopt, Statistics\n",
    "inset_locator = pyimport(\"mpl_toolkits.axes_grid.inset_locator\");\n",
    "mpl = pyimport(\"matplotlib\");"
   ]
  },
  {
   "cell_type": "code",
   "execution_count": 152,
   "metadata": {},
   "outputs": [],
   "source": [
    "include(\"../src/model.jl\");\n",
    "include(\"../src/diagnostics.jl\");\n",
    "include(\"../src/optimization.jl\");\n",
    "include(\"../src/plotting.jl\");\n",
    "include(\"../src/defaults.jl\");"
   ]
  },
  {
   "cell_type": "markdown",
   "metadata": {},
   "source": [
    "### Make figures from default model configuration for manuscript"
   ]
  },
  {
   "cell_type": "markdown",
   "metadata": {},
   "source": [
    "#### Approach 1: Cost-benefit analysis"
   ]
  },
  {
   "cell_type": "code",
   "execution_count": 153,
   "metadata": {},
   "outputs": [
    {
     "name": "stdout",
     "output_type": "stream",
     "text": [
      "Solve_Succeeded\n",
      "  3.297077 seconds (3.98 M allocations: 198.542 MiB, 1.56% gc time)\n"
     ]
    }
   ],
   "source": [
    "model = ClimateModel();\n",
    "@time optimize_controls!(model, obj_option = \"net_benefit\");"
   ]
  },
  {
   "cell_type": "code",
   "execution_count": null,
   "metadata": {},
   "outputs": [
    {
     "name": "stdout",
     "output_type": "stream",
     "text": [
      "Solve_Succeeded\n",
      "  0.046425 seconds (113.94 k allocations: 4.394 MiB)\n",
      "Solve_Succeeded\n",
      "  0.080304 seconds (113.94 k allocations: 4.394 MiB, 39.93% gc time)\n",
      "Solve_Succeeded\n",
      "  0.043396 seconds (110.14 k allocations: 4.327 MiB)\n",
      "Solve_Succeeded\n",
      "  0.046371 seconds (106.05 k allocations: 4.241 MiB)\n",
      "Solve_Succeeded\n",
      "  0.040423 seconds (102.11 k allocations: 4.166 MiB)\n",
      "Solve_Succeeded\n",
      "  0.038739 seconds (100.90 k allocations: 4.143 MiB)\n",
      "Solve_Succeeded\n",
      "  0.041837 seconds (100.76 k allocations: 4.133 MiB)\n",
      "Solve_Succeeded\n",
      "  0.040541 seconds (98.16 k allocations: 4.089 MiB)\n",
      "Solve_Succeeded\n",
      "  0.039657 seconds (98.31 k allocations: 4.099 MiB)\n",
      "Solve_Succeeded\n",
      "  0.041920 seconds (98.16 k allocations: 4.089 MiB)\n",
      "Solve_Succeeded\n",
      "  0.046127 seconds (106.05 k allocations: 4.242 MiB)\n",
      "Solve_Succeeded\n",
      "  0.065610 seconds (118.03 k allocations: 4.479 MiB)\n",
      "Solve_Succeeded\n",
      "  0.070700 seconds (117.88 k allocations: 4.470 MiB)\n",
      "Solve_Succeeded\n",
      "  0.831575 seconds (1.08 M allocations: 22.942 MiB)\n",
      "Solve_Succeeded\n",
      "  1.962853 seconds (2.35 M allocations: 47.602 MiB, 1.23% gc time)\n",
      "Solve_Succeeded\n",
      "  3.565714 seconds (4.36 M allocations: 86.266 MiB, 0.48% gc time)\n",
      "Solve_Succeeded\n",
      "  6.556319 seconds (7.72 M allocations: 151.233 MiB, 0.53% gc time)\n",
      "Solve_Succeeded\n",
      "  8.098524 seconds (10.05 M allocations: 196.074 MiB, 0.29% gc time)\n",
      "Solve_Succeeded\n",
      " 20.804637 seconds (26.50 M allocations: 513.628 MiB, 0.41% gc time)\n",
      "Solve_Succeeded"
     ]
    }
   ],
   "source": [
    "stat_dict = Dict(\"mitigate\" => [], \"remove\" => [], \"geoeng\" => [], \"adapt\" => [], \"maxTnoG\" => [], \"maxT\" => [], \"maxCO2\" => [])\n",
    "ρdict = Dict()\n",
    "ρs = 0.:0.005:0.1\n",
    "\n",
    "for ρ in ρs\n",
    "    tmp_model = ClimateModel();\n",
    "    tmp_model.economics.utility_discount_rate = ρ\n",
    "    @time optimize_controls!(tmp_model, obj_option = \"net_benefit\");\n",
    "    ρdict[ρ] = tmp_model\n",
    "    \n",
    "    append!(stat_dict[\"mitigate\"], mean(tmp_model.controls.mitigate))\n",
    "    append!(stat_dict[\"remove\"], mean(tmp_model.controls.remove))\n",
    "    append!(stat_dict[\"adapt\"], mean(tmp_model.controls.adapt))\n",
    "    append!(stat_dict[\"geoeng\"], mean(tmp_model.controls.geoeng))\n",
    "    append!(stat_dict[\"maxTnoG\"], maximum(δT_no_geoeng(tmp_model)))\n",
    "    append!(stat_dict[\"maxT\"], maximum(δT(tmp_model)))\n",
    "    append!(stat_dict[\"maxCO2\"], maximum(CO₂(tmp_model)))\n",
    "end"
   ]
  },
  {
   "cell_type": "code",
   "execution_count": null,
   "metadata": {},
   "outputs": [],
   "source": [
    "fig = figure(figsize=(12.75,3.75))\n",
    "\n",
    "fig.add_subplot(1,3,1)\n",
    "plot_controls(model)\n",
    "legend(handlelength=1.5, loc=\"upper right\")\n",
    "add_label(\"a)\")\n",
    "xticks(model.domain[1]:40.:2200.)\n",
    "\n",
    "ax = fig.add_subplot(1,3,2)\n",
    "plot_benefits(model)\n",
    "legend(handlelength=1.5, loc=\"upper left\")\n",
    "add_label(\"b)\")\n",
    "ylim([-3., 25.])\n",
    "xticks(model.domain[1]:40.:2200.)\n",
    "\n",
    "ax = fig.add_subplot(1,3,3)\n",
    "plot(ρs, stat_dict[\"mitigate\"], label=L\"$\\overline{M}$\")\n",
    "plot(ρs, stat_dict[\"remove\"], label=L\"$\\overline{R}$\")\n",
    "plot(ρs, stat_dict[\"adapt\"], label=L\"$\\overline{A}$\")\n",
    "plot(ρs, stat_dict[\"geoeng\"], label=L\"$\\overline{G}$\")\n",
    "legend(ncol=2, handlelength=1.)\n",
    "ylim([0, 0.6])\n",
    "xlim([0., 0.1])\n",
    "xticks([0., 0.025, 0.05, 0.075, 0.1], [\"0%\", \"2.5%\", \"5%\", \"7.5%\", \"10%\"])\n",
    "grid(true)\n",
    "ylabel(\"fractional control deployment\")\n",
    "title(\"control preferences vs. discount rate\")\n",
    "title(\"c)\", loc=\"left\")\n",
    "xlabel(\"discount rate\")\n",
    "\n",
    "iax = fig.add_axes([0.535, 0.28, 0.11, 0.155])\n",
    "sca(iax)\n",
    "plot_benefits(model)\n",
    "ylabel(\"\")\n",
    "xlabel(\"\")\n",
    "ylim([-1.5, 1.5])\n",
    "xlim([2020,2070])\n",
    "title(\"\")\n",
    "\n",
    "tight_layout()\n",
    "savefig(\"../figures/default-benefits_controls_and_benefits.pdf\", dpi=150, bbox_inches=\"tight\")\n",
    "\n",
    "print(\"Maximum warming: \", maximum(δT_adapt(model)))"
   ]
  },
  {
   "cell_type": "markdown",
   "metadata": {},
   "source": [
    "#### Approach 2: Avoiding damage thresholds"
   ]
  },
  {
   "cell_type": "code",
   "execution_count": null,
   "metadata": {},
   "outputs": [],
   "source": [
    "model = ClimateModel();\n",
    "@time optimize_controls!(model);"
   ]
  },
  {
   "cell_type": "code",
   "execution_count": null,
   "metadata": {},
   "outputs": [],
   "source": [
    "figure(figsize=(12.5,3.75))\n",
    "\n",
    "subplot(1,3,1)\n",
    "plot_emissions(model)\n",
    "legend()\n",
    "add_label(\"a)\")\n",
    "subplot(1,3,2)\n",
    "plot_concentrations(model)\n",
    "legend()\n",
    "add_label(\"b)\")\n",
    "subplot(1,3,3)\n",
    "plot_temperatures(model)\n",
    "legend(loc=\"upper left\")\n",
    "add_label(\"c)\")\n",
    "tight_layout()\n",
    "savefig(\"../figures/default-temp_carbon_and_temperatures.pdf\", dpi=150, bbox_inches=\"tight\")"
   ]
  },
  {
   "cell_type": "code",
   "execution_count": null,
   "metadata": {},
   "outputs": [],
   "source": [
    "function f_asymp(α, μ)\n",
    "    return α .^ 2. ./ (1. .- exp.(-(1 .- α)/(1. - μ)))\n",
    "end\n",
    "α = 0.:0.002:1.0"
   ]
  },
  {
   "cell_type": "code",
   "execution_count": null,
   "metadata": {},
   "outputs": [],
   "source": [
    "tmp_model = ClimateModel();\n",
    "@time m = optimize_controls!(\n",
    "    tmp_model,\n",
    "    mitigation_penetration = μ,\n",
    ");\n"
   ]
  },
  {
   "cell_type": "code",
   "execution_count": null,
   "metadata": {},
   "outputs": [],
   "source": [
    "figure(figsize=(9.5,4.))\n",
    "\n",
    "subplot(1,2,1)\n",
    "plot_controls(model)\n",
    "legend(loc=\"upper right\")\n",
    "title(\"a)\", loc=\"left\")\n",
    "\n",
    "subplot(1,2,2)\n",
    "plot_damages(model)\n",
    "legend(loc=\"upper right\")\n",
    "title(\"b)\", loc=\"left\")\n",
    "ylim([0, 20])\n",
    "\n",
    "tight_layout()\n",
    "savefig(\"../figures/default-temp_controls_and_damages.pdf\", dpi=150, bbox_inches=\"tight\")\n",
    "\n",
    "print(\"Net Present Control Costs: \", discounted_total_control_cost(model))"
   ]
  },
  {
   "cell_type": "code",
   "execution_count": null,
   "metadata": {},
   "outputs": [],
   "source": []
  },
  {
   "cell_type": "code",
   "execution_count": null,
   "metadata": {},
   "outputs": [],
   "source": []
  },
  {
   "cell_type": "code",
   "execution_count": null,
   "metadata": {},
   "outputs": [],
   "source": []
  }
 ],
 "metadata": {
  "kernelspec": {
   "display_name": "Julia 1.3.1",
   "language": "julia",
   "name": "julia-1.3"
  },
  "language_info": {
   "file_extension": ".jl",
   "mimetype": "application/julia",
   "name": "julia",
   "version": "1.3.1"
  }
 },
 "nbformat": 4,
 "nbformat_minor": 4
}
