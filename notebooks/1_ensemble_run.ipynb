{
 "cells": [
  {
   "cell_type": "markdown",
   "metadata": {},
   "source": [
    "## Paris Agreement Scenario: 66% chance of staying below 2ºC"
   ]
  },
  {
   "cell_type": "code",
   "execution_count": null,
   "metadata": {},
   "outputs": [],
   "source": [
    "using PyPlot\n",
    "using Random\n",
    "using Distributions\n",
    "using JuMP, Ipopt"
   ]
  },
  {
   "cell_type": "code",
   "execution_count": null,
   "metadata": {},
   "outputs": [],
   "source": [
    "include(\"../src/model.jl\");\n",
    "include(\"../src/ensemble.jl\");\n",
    "include(\"../src/diagnostics.jl\");\n",
    "include(\"../src/optimization.jl\");\n",
    "include(\"../src/plotting.jl\");\n",
    "include(\"../src/defaults.jl\");"
   ]
  },
  {
   "cell_type": "code",
   "execution_count": null,
   "metadata": {},
   "outputs": [],
   "source": [
    "# Model domain\n",
    "dt = 1.\n",
    "t = Array(2020:dt:2200);\n",
    "\n",
    "economics = Economics(t);"
   ]
  },
  {
   "cell_type": "code",
   "execution_count": null,
   "metadata": {},
   "outputs": [],
   "source": [
    "Random.seed!(1)\n",
    "d = Normal(0.65, 0.13)\n",
    "Nsamples = 5000\n",
    "feedback_samples = rand(d, Nsamples)\n",
    "\n",
    "feedback_samples = feedback_samples[(feedback_samples .> 0.) .& (feedback_samples .<= 0.999)]\n",
    "print(\"Filtered out \",Nsamples-length(feedback_samples), \" unphysical samples.\")\n",
    "\n",
    "ECS₀ = 1.2\n",
    "ECS_samples = ECS₀ ./ (1. .-feedback_samples);"
   ]
  },
  {
   "cell_type": "code",
   "execution_count": null,
   "metadata": {},
   "outputs": [],
   "source": [
    "hist(ECS_samples, bins=0.:0.25:10., density=true)\n",
    "xlim([0,10])\n",
    "xlabel(L\"Equilibrium Climate Sensitivity ($^{\\circ}$C)\")\n",
    "ylabel(\"Probability\");"
   ]
  },
  {
   "cell_type": "code",
   "execution_count": null,
   "metadata": {},
   "outputs": [],
   "source": [
    "ECS_threshold = quantile(ECS_samples, 2. /3.)\n",
    "\n",
    "present_year = 2020.\n",
    "name = \"66.6% below\";\n",
    "controls = init_linear_controls(t);\n",
    "\n",
    "model_threshold = ClimateModel(name, t, dt, present_year, economics, Physics(ECS_threshold), controls);\n",
    "optimize_controls!(model_threshold, obj_option=\"temp\", temp_goal = 2.);"
   ]
  },
  {
   "cell_type": "code",
   "execution_count": null,
   "metadata": {},
   "outputs": [],
   "source": [
    "ensemble = Dict{String, ClimateModel}();\n",
    "first = true\n",
    "\n",
    "for member_id in 1:length(ECS_samples)\n",
    "    present_year = 2020.\n",
    "    ECS = ECS_samples[member_id]\n",
    "    name = \"member $member_id\";\n",
    "    controls = model_threshold.controls;\n",
    "    model = ClimateModel(name, t, dt, present_year, economics, Physics(ECS), controls);\n",
    "    ensemble[name] = model\n",
    "end"
   ]
  },
  {
   "cell_type": "code",
   "execution_count": null,
   "metadata": {},
   "outputs": [],
   "source": [
    "plot_ensemble(ensemble)\n",
    "savefig(\"../figures/Paris_Agreement_example.png\", bbox_inches=\"tight\", dpi=100)"
   ]
  },
  {
   "cell_type": "code",
   "execution_count": null,
   "metadata": {},
   "outputs": [],
   "source": []
  },
  {
   "cell_type": "code",
   "execution_count": null,
   "metadata": {},
   "outputs": [],
   "source": []
  }
 ],
 "metadata": {
  "kernelspec": {
   "display_name": "Julia 1.3.1",
   "language": "julia",
   "name": "julia-1.3"
  },
  "language_info": {
   "file_extension": ".jl",
   "mimetype": "application/julia",
   "name": "julia",
   "version": "1.3.1"
  }
 },
 "nbformat": 4,
 "nbformat_minor": 4
}
