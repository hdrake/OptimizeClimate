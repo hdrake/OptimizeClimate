{
 "cells": [
  {
   "cell_type": "code",
   "execution_count": 10,
   "metadata": {},
   "outputs": [],
   "source": [
    "using PyPlot\n",
    "include(\"../src/model.jl\");\n",
    "include(\"../src/diagnostics.jl\");"
   ]
  },
  {
   "cell_type": "markdown",
   "metadata": {},
   "source": [
    "## JuMP model"
   ]
  },
  {
   "cell_type": "code",
   "execution_count": 30,
   "metadata": {},
   "outputs": [
    {
     "data": {
      "text/plain": [
       "f_med (generic function with 2 methods)"
      ]
     },
     "execution_count": 30,
     "metadata": {},
     "output_type": "execute_result"
    }
   ],
   "source": [
    "t = Array(2020:1.:2200); # years\n",
    "N = length(t)   # number of years\n",
    "CO₂_init = 415    # concentration(ppm) initially\n",
    "\n",
    "# physical climate parameters\n",
    "ECS = 3.0 # Equilibrium Climate Sensitivity\n",
    "ϵ = ECS / log(2)  # Transient Warming Parameter\n",
    "δT₀_init = 1.1;    # Warming: initial, preindustrial\n",
    "\n",
    "# baseline emissions scenarios\n",
    "q = baseline_emissions(t, 5., 2060., 40.)\n",
    "c₀ = CO₂_init .+ cumsum(q); # cumulative CO2 concentrations (ppm)\n",
    "δT_0 = δT₀_init .+ ϵ.*log.(c₀/CO₂_init) # warming due to baseline emissions scenario\n",
    "\n",
    "# economic parameters\n",
    "GWP= 100. # gross world product\n",
    "\n",
    "β = 0.02*GWP/(3.0)^2 # damages (trillion USD / year / celsius^2)\n",
    "D_0 = β .* δT₀_init.^2; # baseline damages\n",
    "\n",
    "C_φ = 0.01*GWP # Reduction (of emissions) trillion $\n",
    "C_ϕ = 0.02*GWP # Negative (emissions) trillion $\n",
    "C_λ = 0.05*GWP # Geoengineering trillion $\n",
    "C_χ = 0.03*GWP # Adaptation trillion $\n",
    "\n",
    "ρ = 0.025\n",
    "\n",
    "# c(ϕ::Array, φ::Array) = (c₀ .- cumsum(q .* φ)) .* (1. .- ϕ);\n",
    "# δT(ϕ::Array, φ::Array) = δT₀_init .+ ϵ.*log.(c(ϕ,φ)./CO₂_init);\n",
    "\n",
    "f_med(α) = α^2 # shape of individual cost functions\n",
    "\n",
    "# Damage\n",
    "# D(ϕ::Array, φ::Array, χ::Array, λ::Array) = (1 .- χ) .* β .* δT(ϕ, φ).^2 .* (1 .- λ).^2\n",
    "#\n",
    "# # Cost\n",
    "# C(ϕ::Array, φ::Array, χ::Array, λ::Array) = C_λ.*f_low(λ) .+ C_ϕ.*f_low(ϕ) .+ C_φ.*f_low(φ) .+ C_χ.*f_low(χ)\n",
    "#\n",
    "# # Objective\n",
    "# T(ϕ::Array, φ::Array, χ::Array, λ::Array) = (\n",
    "#     sum((C(ϕ, φ, χ, λ) .+ D(ϕ, φ, χ, λ)) .* exp.(.-γ.*(t.-t[1]))) .+\n",
    "#     1000. * (sum(diff(ϕ).^2) .+ sum(diff(φ).^2) .+ sum(diff(χ).^2) .+ sum(diff(λ).^2)) .+\n",
    "#     1000. .* (ϕ[1].^2 .+ φ[1].^2 .+ χ[1].^2 .+ λ[1].^2)\n",
    "# )"
   ]
  },
  {
   "cell_type": "code",
   "execution_count": 31,
   "metadata": {},
   "outputs": [],
   "source": [
    "using JuMP, Ipopt\n",
    "\n",
    "model = Model(with_optimizer(Ipopt.Optimizer))\n",
    "register(model, :f_med, 1, f_med, autodiff=true)\n",
    "\n",
    "function my_log(x)\n",
    "    if x == 0\n",
    "        return -1000.0\n",
    "    else\n",
    "        return log(x)\n",
    "    end\n",
    "end\n",
    "\n",
    "register(model, :my_log, 1, my_log, autodiff=true)"
   ]
  },
  {
   "cell_type": "code",
   "execution_count": 32,
   "metadata": {},
   "outputs": [],
   "source": [
    "# constraints on control variables\n",
    "@variables(model, begin\n",
    "        0. <= ϕ[1:N] <= 1.  # negative emissions\n",
    "        0. <= φ[1:N] <= 1.  # emissions reductions\n",
    "        0. <= χ[1:N] <= 1.  # geoengineering\n",
    "        0. <= λ[1:N] <= 1.  # adapt\n",
    "end)\n",
    "\n",
    "@variable(model, cumsum_qφϕ[1:N]);\n"
   ]
  },
  {
   "cell_type": "code",
   "execution_count": 33,
   "metadata": {},
   "outputs": [
    {
     "name": "stdout",
     "output_type": "stream",
     "text": [
      "This is Ipopt version 3.12.10, running with linear solver mumps.\n",
      "NOTE: Other linear solvers might be more efficient (see Ipopt documentation).\n",
      "\n",
      "Number of nonzeros in equality constraint Jacobian...:      622\n",
      "Number of nonzeros in inequality constraint Jacobian.:        0\n",
      "Number of nonzeros in Lagrangian Hessian.............:     2168\n",
      "\n",
      "Total number of variables............................:      905\n",
      "                     variables with only lower bounds:        0\n",
      "                variables with lower and upper bounds:      724\n",
      "                     variables with only upper bounds:        0\n",
      "Total number of equality constraints.................:      181\n",
      "Total number of inequality constraints...............:        0\n",
      "        inequality constraints with only lower bounds:        0\n",
      "   inequality constraints with lower and upper bounds:        0\n",
      "        inequality constraints with only upper bounds:        0\n",
      "\n",
      "iter    objective    inf_pr   inf_du lg(mu)  ||d||  lg(rg) alpha_du alpha_pr  ls\n",
      "   0  1.0819061e+01 4.90e+00 9.80e+00  -1.0 0.00e+00    -  0.00e+00 0.00e+00   0\n",
      "   1  3.9206126e+01 2.78e-14 4.13e+00  -1.0 2.25e+02    -  5.24e-01 1.00e+00f  1\n",
      "   2  3.8048908e+01 2.64e-14 1.01e-01  -1.0 1.91e+02    -  1.00e+00 1.00e+00f  1\n",
      "   3  3.5689976e+01 2.75e-14 6.73e-03  -1.7 2.05e+01    -  1.00e+00 1.00e+00f  1\n",
      "   4  3.4367993e+01 2.31e-14 3.14e-03  -2.5 3.46e+01    -  1.00e+00 1.00e+00f  1\n",
      "   5  3.4038117e+01 2.75e-14 2.62e-02  -3.8 1.98e+01    -  9.74e-01 1.00e+00f  1\n",
      "   6  3.4005738e+01 2.55e-14 1.87e-05  -3.8 1.49e+00    -  1.00e+00 1.00e+00f  1\n",
      "   7  3.4002473e+01 2.42e-14 1.49e-03  -5.7 5.24e-01    -  9.89e-01 1.00e+00f  1\n",
      "   8  3.4002408e+01 2.44e-14 2.37e-09  -5.7 2.13e-02    -  1.00e+00 1.00e+00f  1\n",
      "   9  3.4002408e+01 2.51e-14 2.53e-10  -8.6 1.14e-02    -  1.00e+00 1.00e+00h  1\n",
      "iter    objective    inf_pr   inf_du lg(mu)  ||d||  lg(rg) alpha_du alpha_pr  ls\n",
      "  10  3.4002408e+01 2.44e-14 3.09e-14  -9.0 1.97e-05    -  1.00e+00 1.00e+00h  1\n",
      "\n",
      "Number of Iterations....: 10\n",
      "\n",
      "                                   (scaled)                 (unscaled)\n",
      "Objective...............:   3.4002407996894256e+01    3.4002407996894256e+01\n",
      "Dual infeasibility......:   3.0914776746528297e-14    3.0914776746528297e-14\n",
      "Constraint violation....:   2.4424906541753444e-14    2.4424906541753444e-14\n",
      "Complementarity.........:   9.0931275846103536e-10    9.0931275846103536e-10\n",
      "Overall NLP error.......:   9.0931275846103536e-10    9.0931275846103536e-10\n",
      "\n",
      "\n",
      "Number of objective function evaluations             = 11\n",
      "Number of objective gradient evaluations             = 11\n",
      "Number of equality constraint evaluations            = 11\n",
      "Number of inequality constraint evaluations          = 0\n",
      "Number of equality constraint Jacobian evaluations   = 1\n",
      "Number of inequality constraint Jacobian evaluations = 0\n",
      "Number of Lagrangian Hessian evaluations             = 10\n",
      "Total CPU secs in IPOPT (w/o function evaluations)   =      0.063\n",
      "Total CPU secs in NLP function evaluations           =      0.121\n",
      "\n",
      "EXIT: Optimal Solution Found.\n",
      "  0.191498 seconds (498.87 k allocations: 25.548 MiB, 4.77% gc time)\n"
     ]
    },
    {
     "data": {
      "text/plain": [
       "34.002407996894256"
      ]
     },
     "execution_count": 33,
     "metadata": {},
     "output_type": "execute_result"
    }
   ],
   "source": [
    "\n",
    "# add integral function as a new variable\n",
    "for i in 1:N-1\n",
    "    @constraint(model, cumsum_qφϕ[i+1] - cumsum_qφϕ[i] == (q[i+1] * (1. - φ[i+1]) - q[1] * ϕ[i+1]))\n",
    "end\n",
    "@constraint(model, cumsum_qφϕ[1] == (q[1] * (1. - φ[1]) - q[1] * ϕ[1]))\n",
    "\n",
    "# objective function to minimize\n",
    "@NLobjective(model, Min, \n",
    "    sum(\n",
    "        (\n",
    "            (1 - χ[i]) * β *\n",
    "            (δT₀_init + ϵ * my_log((CO₂_init + cumsum_qφϕ[i]) / CO₂_init))^2 *\n",
    "            (1 - λ[i])^2 +\n",
    "            C_λ*f_med(λ[i]) +\n",
    "            C_ϕ*f_med(ϕ[i]) +\n",
    "            C_φ*f_med(φ[i]) +\n",
    "            C_χ*f_med(χ[i])\n",
    "        ) *\n",
    "        (1. + ρ)^(-(t[i] - t[1]))\n",
    "    for i=1:N)\n",
    "    \n",
    "    + 200 * sum( (ϕ[i+1] - ϕ[i])^2 + (φ[i+1] - φ[i])^2 \n",
    "                  + (λ[i+1] - λ[i])^2 + (χ[i+1] - χ[i])^2 for i=1:N-1 )\n",
    "        \n",
    "    + 500 * (ϕ[1]^2 + φ[1]^2 + χ[1]^2 + λ[1]^2)\n",
    ")\n",
    "\n",
    "@time optimize!(model)\n",
    "\n",
    "\n",
    "objective_value(model)\n",
    "\n",
    "\n"
   ]
  },
  {
   "cell_type": "code",
   "execution_count": 34,
   "metadata": {},
   "outputs": [
    {
     "data": {
      "image/png": "[encoded data removed]",
      "text/plain": [
       "Figure(PyObject <Figure size 640x480 with 1 Axes>)"
      ]
     },
     "metadata": {},
     "output_type": "display_data"
    },
    {
     "data": {
      "text/plain": [
       "(0, 1)"
      ]
     },
     "execution_count": 34,
     "metadata": {},
     "output_type": "execute_result"
    }
   ],
   "source": [
    "plot(t, value.(ϕ), label=\"ϕ (negative emissions)\")\n",
    "plot(t, value.(φ), label=\"φ (emissions reductions)\")\n",
    "plot(t, value.(χ), label=\"χ (adaptation)\")\n",
    "plot(t, value.(λ), label=\"λ (geoengineering)\")\n",
    "\n",
    "legend()\n",
    "ylim(0,1)"
   ]
  },
  {
   "cell_type": "code",
   "execution_count": null,
   "metadata": {},
   "outputs": [],
   "source": []
  }
 ],
 "metadata": {
  "@webio": {
   "lastCommId": null,
   "lastKernelId": null
  },
  "kernelspec": {
   "display_name": "Julia 1.2.0",
   "language": "julia",
   "name": "julia-1.2"
  },
  "language_info": {
   "file_extension": ".jl",
   "mimetype": "application/julia",
   "name": "julia",
   "version": "1.2.0"
  }
 },
 "nbformat": 4,
 "nbformat_minor": 4
}
