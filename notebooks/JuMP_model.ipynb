{
 "cells": [
  {
   "cell_type": "code",
   "execution_count": 52,
   "metadata": {},
   "outputs": [],
   "source": [
    "using PyPlot"
   ]
  },
  {
   "cell_type": "markdown",
   "metadata": {},
   "source": [
    "## JuMP model"
   ]
  },
  {
   "cell_type": "code",
   "execution_count": 77,
   "metadata": {},
   "outputs": [
    {
     "data": {
      "text/plain": [
       "f_med (generic function with 1 method)"
      ]
     },
     "execution_count": 77,
     "metadata": {},
     "output_type": "execute_result"
    }
   ],
   "source": [
    "t = [2020:2100;] # years\n",
    "N = length(t)   # number of years\n",
    "CO₂_init = 415    # concentration(ppm) initially\n",
    "\n",
    "# physical climate parameters\n",
    "ECS = 3.0 # Equilibrium Climate Sensitivity\n",
    "ϵ = ECS / log(2)  # Transient Warming Parameter\n",
    "δT₀_init = 1.1;    # Warming: initial, preindustrial\n",
    "\n",
    "# baseline emissions scenarios\n",
    "q = fill(5, N) # emissions scenario\n",
    "c₀ = CO₂_init .+ cumsum(q); # cumulative CO2 concentrations (ppm)\n",
    "δT_0 = δT₀_init .+ ϵ.*log.(c₀/CO₂_init) # warming due to baseline emissions scenario\n",
    "\n",
    "# economic parameters\n",
    "β = 1.5 # damage parameter (trillion dollars / C^2)\n",
    "D_0 = β .* δT₀_init.^2; # baseline damages\n",
    "\n",
    "GWP= 100.\n",
    "C_φ = 0.10*GWP # Reduction (of emissions) trillion $\n",
    "C_ϕ = 0.15*GWP # Negative (emissions) trillion $\n",
    "C_λ = 0.25*GWP # Geoengineering trillion $\n",
    "C_χ = 0.20*GWP # Adaptation trillion $\n",
    "\n",
    "ρ = 0.014\n",
    "\n",
    "# c(ϕ::Array, φ::Array) = (c₀ .- cumsum(q .* φ)) .* (1. .- ϕ);\n",
    "# δT(ϕ::Array, φ::Array) = δT₀_init .+ ϵ.*log.(c(ϕ,φ)./CO₂_init);\n",
    "\n",
    "f_med(α) = α^2 # shape of individual cost functions\n",
    "\n",
    "# Damage\n",
    "# D(ϕ::Array, φ::Array, χ::Array, λ::Array) = (1 .- χ) .* β .* δT(ϕ, φ).^2 .* (1 .- λ).^2\n",
    "#\n",
    "# # Cost\n",
    "# C(ϕ::Array, φ::Array, χ::Array, λ::Array) = C_λ.*f_low(λ) .+ C_ϕ.*f_low(ϕ) .+ C_φ.*f_low(φ) .+ C_χ.*f_low(χ)\n",
    "#\n",
    "# # Objective\n",
    "# T(ϕ::Array, φ::Array, χ::Array, λ::Array) = (\n",
    "#     sum((C(ϕ, φ, χ, λ) .+ D(ϕ, φ, χ, λ)) .* exp.(.-γ.*(t.-t[1]))) .+\n",
    "#     1000. * (sum(diff(ϕ).^2) .+ sum(diff(φ).^2) .+ sum(diff(χ).^2) .+ sum(diff(λ).^2)) .+\n",
    "#     1000. .* (ϕ[1].^2 .+ φ[1].^2 .+ χ[1].^2 .+ λ[1].^2)\n",
    "# )"
   ]
  },
  {
   "cell_type": "code",
   "execution_count": 78,
   "metadata": {},
   "outputs": [],
   "source": [
    "using JuMP, Ipopt\n",
    "\n",
    "model = Model(with_optimizer(Ipopt.Optimizer))\n",
    "register(model, :f_med, 1, f_med, autodiff=true)\n",
    "\n",
    "function my_log(x)\n",
    "    if x == 0\n",
    "        return -1000.0\n",
    "    else\n",
    "        return log(x)\n",
    "    end\n",
    "end\n",
    "\n",
    "register(model, :my_log, 1, my_log, autodiff=true)"
   ]
  },
  {
   "cell_type": "code",
   "execution_count": 79,
   "metadata": {},
   "outputs": [],
   "source": [
    "# constraints on control variables\n",
    "@variables(model, begin\n",
    "        0. <= ϕ[1:N] <= 1.  # negative emissions\n",
    "        0. <= φ[1:N] <= 1.  # emissions reductions\n",
    "        0. <= χ[1:N] <= 1.  # geoengineering\n",
    "        0. <= λ[1:N] <= 1.  # adapt\n",
    "end)\n",
    "\n",
    "@variable(model, cumsum_qφϕ[1:N]);\n"
   ]
  },
  {
   "cell_type": "code",
   "execution_count": 80,
   "metadata": {},
   "outputs": [
    {
     "name": "stdout",
     "output_type": "stream",
     "text": [
      "This is Ipopt version 3.12.10, running with linear solver mumps.\n",
      "NOTE: Other linear solvers might be more efficient (see Ipopt documentation).\n",
      "\n",
      "Number of nonzeros in equality constraint Jacobian...:      323\n",
      "Number of nonzeros in inequality constraint Jacobian.:        0\n",
      "Number of nonzeros in Lagrangian Hessian.............:      968\n",
      "\n",
      "Total number of variables............................:      405\n",
      "                     variables with only lower bounds:        0\n",
      "                variables with lower and upper bounds:      324\n",
      "                     variables with only upper bounds:        0\n",
      "Total number of equality constraints.................:       81\n",
      "Total number of inequality constraints...............:        0\n",
      "        inequality constraints with only lower bounds:        0\n",
      "   inequality constraints with lower and upper bounds:        0\n",
      "        inequality constraints with only upper bounds:        0\n",
      "\n",
      "iter    objective    inf_pr   inf_du lg(mu)  ||d||  lg(rg) alpha_du alpha_pr  ls\n",
      "   0  8.6732469e+01 4.90e+00 8.62e+00  -1.0 0.00e+00    -  0.00e+00 0.00e+00   0\n",
      "   1  3.0131654e+02 4.26e-14 7.64e+00  -1.0 2.90e+02    -  1.20e-01 1.00e+00h  1\n",
      "   2  2.8088091e+02 2.58e-14 3.29e-01  -1.0 3.36e+01    -  1.00e+00 1.00e+00f  1\n",
      "   3  2.7930730e+02 2.93e-14 9.58e-03  -1.7 1.35e+01    -  1.00e+00 1.00e+00f  1\n",
      "   4  2.7890012e+02 4.44e-14 1.36e-03  -2.5 8.64e+00    -  1.00e+00 1.00e+00f  1\n",
      "   5  2.7885499e+02 3.38e-14 1.72e-04  -3.8 3.10e+00    -  1.00e+00 1.00e+00f  1\n",
      "   6  2.7885286e+02 2.75e-14 6.40e-06  -3.8 5.51e-01    -  1.00e+00 1.00e+00f  1\n",
      "   7  2.7885278e+02 5.42e-14 2.69e-07  -5.7 1.30e-01    -  1.00e+00 1.00e+00f  1\n",
      "   8  2.7885278e+02 3.11e-14 1.84e-10  -8.6 3.23e-03    -  1.00e+00 1.00e+00h  1\n",
      "   9  2.7885278e+02 3.91e-14 3.93e-14  -8.6 2.61e-06    -  1.00e+00 1.00e+00h  1\n",
      "\n",
      "Number of Iterations....: 9\n",
      "\n",
      "                                   (scaled)                 (unscaled)\n",
      "Objective...............:   2.7885278156956321e+02    2.7885278156956321e+02\n",
      "Dual infeasibility......:   3.9308523550393157e-14    3.9308523550393157e-14\n",
      "Constraint violation....:   3.9079850466805510e-14    3.9079850466805510e-14\n",
      "Complementarity.........:   2.5059650547565183e-09    2.5059650547565183e-09\n",
      "Overall NLP error.......:   2.5059650547565183e-09    2.5059650547565183e-09\n",
      "\n",
      "\n",
      "Number of objective function evaluations             = 10\n",
      "Number of objective gradient evaluations             = 10\n",
      "Number of equality constraint evaluations            = 10\n",
      "Number of inequality constraint evaluations          = 0\n",
      "Number of equality constraint Jacobian evaluations   = 1\n",
      "Number of inequality constraint Jacobian evaluations = 0\n",
      "Number of Lagrangian Hessian evaluations             = 9\n",
      "Total CPU secs in IPOPT (w/o function evaluations)   =      0.049\n",
      "Total CPU secs in NLP function evaluations           =      0.103\n",
      "\n",
      "EXIT: Optimal Solution Found.\n",
      "  0.165717 seconds (417.14 k allocations: 22.160 MiB, 5.48% gc time)\n"
     ]
    },
    {
     "data": {
      "text/plain": [
       "278.8527815695632"
      ]
     },
     "execution_count": 80,
     "metadata": {},
     "output_type": "execute_result"
    }
   ],
   "source": [
    "\n",
    "# add integral function as a new variable\n",
    "for i in 1:N-1\n",
    "    @constraint(model, cumsum_qφϕ[i+1] - cumsum_qφϕ[i] == (q[i+1] * (1. - φ[i+1]) - q[1] * ϕ[i+1]))\n",
    "end\n",
    "@constraint(model, cumsum_qφϕ[1] == (q[1] * (1. - φ[1]) - q[1] * ϕ[1]))\n",
    "\n",
    "# objective function to minimize\n",
    "@NLobjective(model, Min, \n",
    "    sum(\n",
    "        (\n",
    "            (1 - χ[i]) * β *\n",
    "            (δT₀_init + ϵ * my_log((CO₂_init + cumsum_qφϕ[i]) / CO₂_init))^2 *\n",
    "            (1 - λ[i])^2 +\n",
    "            C_λ*f_med(λ[i]) +\n",
    "            C_ϕ*f_med(ϕ[i]) +\n",
    "            C_φ*f_med(φ[i]) +\n",
    "            C_χ*f_med(χ[i])\n",
    "        ) *\n",
    "        (1. + ρ)^(-(t[i] - t[1]))\n",
    "    for i=1:N)\n",
    "    \n",
    "    + 200 * sum( (ϕ[i+1] - ϕ[i])^2 + (φ[i+1] - φ[i])^2 \n",
    "                  + (λ[i+1] - λ[i])^2 + (χ[i+1] - χ[i])^2 for i=1:N-1 )\n",
    "        \n",
    "    + 500 * (ϕ[1]^2 + φ[1]^2 + χ[1]^2 + λ[1]^2)\n",
    ")\n",
    "\n",
    "@time optimize!(model)\n",
    "\n",
    "\n",
    "objective_value(model)\n",
    "\n",
    "\n"
   ]
  },
  {
   "cell_type": "code",
   "execution_count": 81,
   "metadata": {},
   "outputs": [
    {
     "data": {
      "text/plain": [
       "81-element Array{Float64,1}:\n",
       " 0.03135756720090459 \n",
       " 0.09316358466462295 \n",
       " 0.14183833838995805 \n",
       " 0.18009694830856454 \n",
       " 0.21007618943381023 \n",
       " 0.23346082709418675 \n",
       " 0.2515816569415411  \n",
       " 0.2654917529335456  \n",
       " 0.27602589020179    \n",
       " 0.2838469474468523  \n",
       " 0.28948221105676597 \n",
       " 0.29335183097519696 \n",
       " 0.29579116483353385 \n",
       " ⋮                   \n",
       " 0.07155222041956537 \n",
       " 0.06764445017890386 \n",
       " 0.06390607293108148 \n",
       " 0.060361928772155675\n",
       " 0.05704002927113838 \n",
       " 0.05397195092155063 \n",
       " 0.05119327599923888 \n",
       " 0.048744086975792564\n",
       " 0.046669521629519435\n",
       " 0.04502039720675173 \n",
       " 0.04385391347827741 \n",
       " 0.04323444639513527 "
      ]
     },
     "execution_count": 81,
     "metadata": {},
     "output_type": "execute_result"
    }
   ],
   "source": [
    "value.(φ)"
   ]
  },
  {
   "cell_type": "code",
   "execution_count": 82,
   "metadata": {},
   "outputs": [
    {
     "data": {
      "image/png": "[encoded data removed]",
      "text/plain": [
       "Figure(PyObject <Figure size 640x480 with 1 Axes>)"
      ]
     },
     "metadata": {},
     "output_type": "display_data"
    },
    {
     "data": {
      "text/plain": [
       "(0, 1)"
      ]
     },
     "execution_count": 82,
     "metadata": {},
     "output_type": "execute_result"
    }
   ],
   "source": [
    "plot(t, value.(ϕ), label=\"ϕ (negative emissions)\")\n",
    "plot(t, value.(φ), label=\"φ (emissions reductions)\")\n",
    "plot(t, value.(χ), label=\"χ (adaptation)\")\n",
    "plot(t, value.(λ), label=\"λ (geoengineering)\")\n",
    "\n",
    "legend()\n",
    "ylim(0,1)"
   ]
  }
 ],
 "metadata": {
  "@webio": {
   "lastCommId": null,
   "lastKernelId": null
  },
  "kernelspec": {
   "display_name": "Julia 1.2.0",
   "language": "julia",
   "name": "julia-1.2"
  },
  "language_info": {
   "file_extension": ".jl",
   "mimetype": "application/julia",
   "name": "julia",
   "version": "1.2.0"
  }
 },
 "nbformat": 4,
 "nbformat_minor": 4
}
