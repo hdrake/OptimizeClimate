{
 "cells": [
  {
   "cell_type": "code",
   "execution_count": 1,
   "metadata": {},
   "outputs": [],
   "source": [
    "using PyPlot\n",
    "using JuMP, Ipopt"
   ]
  },
  {
   "cell_type": "code",
   "execution_count": 2,
   "metadata": {},
   "outputs": [],
   "source": [
    "include(\"../src/model.jl\");\n",
    "include(\"../src/diagnostics.jl\");\n",
    "include(\"../src/optimization.jl\");\n",
    "include(\"../src/plotting.jl\");"
   ]
  },
  {
   "cell_type": "markdown",
   "metadata": {},
   "source": [
    "# Optimizating the Global Climate Action Policy Portfolio\n",
    "\n",
    "#### Physical Climate Model Parameters"
   ]
  },
  {
   "cell_type": "code",
   "execution_count": 3,
   "metadata": {},
   "outputs": [],
   "source": [
    "# Model domain\n",
    "dt = 1. # 1-year timestep, can make longer to speed up the model\n",
    "t = Array(2020:dt:2200);\n",
    "\n",
    "ECS = 3.0; # \"Best-guess equilibrium climate sensitivity\""
   ]
  },
  {
   "cell_type": "markdown",
   "metadata": {},
   "source": [
    "#### Economic parameters\n",
    "\n",
    "Assume damages of 2% of global world product (GWP) for 3$^{\\circ}$C of warming (similar to DICE damage function)."
   ]
  },
  {
   "cell_type": "code",
   "execution_count": 4,
   "metadata": {},
   "outputs": [],
   "source": [
    "GWP = 100. # global world product (trillion $ / year)\n",
    "\n",
    "β = 0.02*GWP/(3.0)^2 # damages (trillion USD / year / celsius^2)\n",
    "utility_discount_rate = 0.025 # ρ (relative low value from Stern review)\n",
    "\n",
    "# Control technology cost scales, as fraction of GWP (cost scale is for full deployment, α=1.)\n",
    "reduce_cost = 0.01*GWP;\n",
    "remove_cost = 0.02*GWP;\n",
    "geoeng_cost = 0.05*GWP;\n",
    "adapt_cost = 0.03*GWP;"
   ]
  },
  {
   "cell_type": "markdown",
   "metadata": {},
   "source": [
    "#### No-policy baseline scenario\n",
    "\n",
    "We begin with a reference no-policy baseline scenario in which CO2 concentrations increase at a rate determined by the emissions rate $q(t)$, which here a constant $q_{0} = 5$ ppm/year (second argument of `baseline_emissions()` function) until 2060 (third argument), at which point emissions are assumed to decrease to zero over the next 40 years (fourth argument).\n",
    "\n",
    "All of these parameters are easily modified in the `baseline_emissions()` function below."
   ]
  },
  {
   "cell_type": "code",
   "execution_count": 5,
   "metadata": {},
   "outputs": [],
   "source": [
    "baseline_emissions_scenario = baseline_emissions(t, 5., 2080., 40.)\n",
    "\n",
    "economics = Economics(\n",
    "    β, utility_discount_rate,\n",
    "    reduce_cost, remove_cost, geoeng_cost, adapt_cost,\n",
    "    0., 0., 0., 0., # Assumed initial condition of zero control deployments in 2020\n",
    "    baseline_emissions_scenario\n",
    ");"
   ]
  },
  {
   "cell_type": "markdown",
   "metadata": {},
   "source": [
    "### Initialize model"
   ]
  },
  {
   "cell_type": "code",
   "execution_count": 6,
   "metadata": {},
   "outputs": [
    {
     "name": "stdout",
     "output_type": "stream",
     "text": [
      "Social cost of carbon: $25.13"
     ]
    }
   ],
   "source": [
    "ensemble = Dict{String, ClimateModel}();\n",
    "\n",
    "name = \"Example configuration\";\n",
    "present_year = 2020.\n",
    "\n",
    "# Arbitrary initial guess of climate control policies, to be optimized later!\n",
    "controls = init_zero_controls(t);\n",
    "\n",
    "# Create instance of idealized integrated assessment climate model\n",
    "model = ClimateModel(name, ECS, t, dt, controls, economics, present_year);\n",
    "\n",
    "# Calculate and print the social cost of carbon (defined by the\n",
    "# climate damages due to an extra metric ton of CO2 emitted in 2020)\n",
    "print(string(\"Social cost of carbon: \\$\", SCC(model)))"
   ]
  },
  {
   "cell_type": "markdown",
   "metadata": {},
   "source": [
    "## Model optimization\n",
    "\n",
    "We now calculate the optimal trajectories of climate control deployments $\\alpha$ by minimizing an objective function (also known as a \"cost function\") under a set of physical and policy constraints. The physical constraints are that the fractional deployments of climate controls are between 0 (no deployment) and 1 (full deployment). The policy constraints are that the climate controls begin at 0 fraction deployment in 2020 and that deployments can only change at a maximum rate of $\\partial \\alpha \\, / \\, \\partial t < 1/30$ (i.e. from zero to full deployment in 30 years).\n",
    "\n",
    "The model currently supports three optimizations options, representing different assumed cost functions or additional policy constraints:\n",
    "- `net_cost`: in this scenario, the model optimizes the total net discounted cost of handling climate change, including both the direct costs $\\beta \\, \\delta T_{\\alpha}^{2} \\, (1 - \\chi)$ of (controlled) damages from climate impacts and the costs $\\sum C_{\\alpha}f(\\alpha)$ of deploying climate controls.\n",
    "\n",
    "- `temp`: in this scenario, the model finds the lowest total discounted cost of climate controls which results in temperatures that remain below a specified temperature goal. The temperature goal is given as an additional parameter in degrees Celsius, e.g. `optimize_controls!(model, maxslope = maxslope, obj_option = \"temp\", temp_goal = 1.5)`.\n",
    "\n",
    "- `budget`: in this scenario, the model finds the combination of discounted climate control investments which, given a specified budget, provides the lowest (controlled) damages from cimate impacts. The budget is given as an additional parameter in trillions of USD, e.g. `optimize_controls!(model, maxslope = maxslope, obj_option = \"budget\", budget = 10.)`."
   ]
  },
  {
   "cell_type": "code",
   "execution_count": null,
   "metadata": {},
   "outputs": [],
   "source": [
    "maxslope = 1. /30.\n",
    "optimize_controls!(\n",
    "    model,\n",
    "    maxslope = maxslope,\n",
    "    obj_option = \"net_cost\",\n",
    "    max_deployment = Dict(\"remove\"=>1., \"reduce\"=>1., \"geoeng\"=>0., \"adapt\"=>1.)\n",
    ");"
   ]
  },
  {
   "cell_type": "markdown",
   "metadata": {},
   "source": [
    "### Plotting the optimal solution state"
   ]
  },
  {
   "cell_type": "code",
   "execution_count": null,
   "metadata": {},
   "outputs": [],
   "source": [
    "plot_state(model)\n",
    "\n",
    "# Individual panels of the figure can be modified using PyPlot commands\n",
    "# (see https://github.com/JuliaPy/PyPlot.jl)\n",
    "subplot(2,3,3)\n",
    "plot([2020., 2020. + 1. /maxslope], [0.,1.], \"k--\", alpha=0.25) # add a slope showing the faster possible ramp up of controls\n",
    "\n",
    "savefig(\"../figures/model_state_example_no-geoeng.png\", bbox_inches=\"tight\", dpi=100)"
   ]
  },
  {
   "cell_type": "code",
   "execution_count": null,
   "metadata": {},
   "outputs": [],
   "source": []
  },
  {
   "cell_type": "code",
   "execution_count": null,
   "metadata": {},
   "outputs": [],
   "source": []
  }
 ],
 "metadata": {
  "kernelspec": {
   "display_name": "Julia 1.2.0",
   "language": "julia",
   "name": "julia-1.2"
  },
  "language_info": {
   "file_extension": ".jl",
   "mimetype": "application/julia",
   "name": "julia",
   "version": "1.2.0"
  }
 },
 "nbformat": 4,
 "nbformat_minor": 4
}
