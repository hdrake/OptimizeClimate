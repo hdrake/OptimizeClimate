{
 "cells": [
  {
   "cell_type": "code",
   "execution_count": 1,
   "metadata": {},
   "outputs": [],
   "source": [
    "using PyPlot\n",
    "using JuMP, Ipopt\n",
    "using Combinatorics"
   ]
  },
  {
   "cell_type": "code",
   "execution_count": 2,
   "metadata": {},
   "outputs": [],
   "source": [
    "include(\"../src/model.jl\");\n",
    "include(\"../src/diagnostics.jl\");\n",
    "include(\"../src/optimization.jl\");\n",
    "include(\"../src/plotting.jl\");\n",
    "include(\"../src/defaults.jl\");"
   ]
  },
  {
   "cell_type": "markdown",
   "metadata": {},
   "source": [
    "# Optimizating the Global Climate Action Policy Portfolio"
   ]
  },
  {
   "cell_type": "code",
   "execution_count": 3,
   "metadata": {},
   "outputs": [
    {
     "data": {
      "text/plain": [
       "Dict{String,Float64} with 4 entries:\n",
       "  \"geoeng\"   => 1.0\n",
       "  \"mitigate\" => 1.0\n",
       "  \"remove\"   => 1.0\n",
       "  \"adapt\"    => 0.333333"
      ]
     },
     "execution_count": 3,
     "metadata": {},
     "output_type": "execute_result"
    }
   ],
   "source": [
    "model_og = ClimateModel();\n",
    "max_deployment_og = Dict(\"mitigate\"=>1., \"remove\"=>1., \"geoeng\"=>1., \"adapt\"=>1. /3.)"
   ]
  },
  {
   "cell_type": "code",
   "execution_count": 4,
   "metadata": {},
   "outputs": [],
   "source": [
    "controls = collect(keys(max_deployment_og));"
   ]
  },
  {
   "cell_type": "code",
   "execution_count": 5,
   "metadata": {},
   "outputs": [
    {
     "data": {
      "text/plain": [
       "15-element Array{Array{String,1},1}:\n",
       " [\"geoeng\"]                               \n",
       " [\"mitigate\"]                             \n",
       " [\"remove\"]                               \n",
       " [\"adapt\"]                                \n",
       " [\"geoeng\", \"mitigate\"]                   \n",
       " [\"geoeng\", \"remove\"]                     \n",
       " [\"geoeng\", \"adapt\"]                      \n",
       " [\"mitigate\", \"remove\"]                   \n",
       " [\"mitigate\", \"adapt\"]                    \n",
       " [\"remove\", \"adapt\"]                      \n",
       " [\"geoeng\", \"mitigate\", \"remove\"]         \n",
       " [\"geoeng\", \"mitigate\", \"adapt\"]          \n",
       " [\"geoeng\", \"remove\", \"adapt\"]            \n",
       " [\"mitigate\", \"remove\", \"adapt\"]          \n",
       " [\"geoeng\", \"mitigate\", \"remove\", \"adapt\"]"
      ]
     },
     "execution_count": 5,
     "metadata": {},
     "output_type": "execute_result"
    }
   ],
   "source": [
    "control_permutations = combinations(controls) |> collect"
   ]
  },
  {
   "cell_type": "code",
   "execution_count": 6,
   "metadata": {},
   "outputs": [
    {
     "name": "stdout",
     "output_type": "stream",
     "text": [
      "\n",
      "******************************************************************************\n",
      "This program contains Ipopt, a library for large-scale nonlinear optimization.\n",
      " Ipopt is released as open source code under the Eclipse Public License (EPL).\n",
      "         For more information visit http://projects.coin-or.org/Ipopt\n",
      "******************************************************************************\n",
      "\n",
      "Solve_Succeeded\n",
      " 37.933928 seconds (111.14 M allocations: 6.318 GiB, 6.22% gc time)\n",
      "Solve_Succeeded\n",
      "  0.041463 seconds (89.13 k allocations: 3.963 MiB)\n",
      "Infeasible_Problem_Detected\n",
      "  0.748578 seconds (1.54 M allocations: 30.766 MiB, 4.47% gc time)\n",
      "Infeasible_Problem_Detected\n",
      "  0.815213 seconds (1.20 M allocations: 22.427 MiB)\n",
      "Solve_Succeeded\n",
      "  0.042789 seconds (92.70 k allocations: 4.069 MiB)\n",
      "Solve_Succeeded\n",
      "  0.030076 seconds (72.92 k allocations: 3.714 MiB)\n",
      "Solve_Succeeded\n",
      "  0.033105 seconds (89.84 k allocations: 4.007 MiB)\n",
      "Solve_Succeeded\n",
      "  0.047183 seconds (109.51 k allocations: 4.373 MiB)\n",
      "Solve_Succeeded\n",
      "  0.045741 seconds (109.04 k allocations: 4.365 MiB)\n",
      "Solve_Succeeded\n",
      "  0.038863 seconds (97.01 k allocations: 4.161 MiB)\n",
      "Solve_Succeeded\n",
      "  0.042146 seconds (100.75 k allocations: 4.261 MiB)\n",
      "Solve_Succeeded\n",
      "  0.077571 seconds (101.36 k allocations: 4.282 MiB, 34.67% gc time)\n",
      "Solve_Succeeded\n",
      "  0.035269 seconds (84.07 k allocations: 3.949 MiB)\n",
      "Solve_Succeeded\n",
      "  0.048497 seconds (110.25 k allocations: 4.453 MiB)\n",
      "Solve_Succeeded\n",
      "  0.047190 seconds (109.41 k allocations: 4.475 MiB)\n"
     ]
    }
   ],
   "source": [
    "results = Dict()\n",
    "\n",
    "for control_permutation in control_permutations    \n",
    "    # Assert that some controls not be deployed\n",
    "    max_deployment = copy(max_deployment_og)\n",
    "    for control in controls\n",
    "        if ~(control in control_permutation)\n",
    "            max_deployment[control] = 0\n",
    "        end\n",
    "    end\n",
    "    \n",
    "    model = ClimateModel();\n",
    "    @time m = optimize_controls!(model, max_deployment = max_deployment);\n",
    "    \n",
    "    results[control_permutation] = Dict(\"NPV\" => discounted_total_control_cost(model), \"status\" => raw_status(m))\n",
    "    \n",
    "end"
   ]
  },
  {
   "cell_type": "code",
   "execution_count": 7,
   "metadata": {},
   "outputs": [
    {
     "name": "stdout",
     "output_type": "stream",
     "text": [
      "[\"geoeng\", \"mitigate\", \"remove\"], 57, 4%\n",
      "[\"remove\"] has no solution.\n",
      "[\"mitigate\", \"remove\"], 63, 15%\n",
      "[\"mitigate\"], 87, 60%\n",
      "[\"geoeng\", \"mitigate\", \"remove\", \"adapt\"], 55, 0%\n",
      "[\"geoeng\", \"adapt\"], 294, 436%\n",
      "[\"geoeng\", \"mitigate\", \"adapt\"], 71, 29%\n",
      "[\"mitigate\", \"remove\", \"adapt\"], 60, 10%\n",
      "[\"geoeng\"], 411, 650%\n",
      "[\"geoeng\", \"remove\", \"adapt\"], 145, 165%\n",
      "[\"mitigate\", \"adapt\"], 81, 49%\n",
      "[\"geoeng\", \"mitigate\"], 75, 38%\n",
      "[\"remove\", \"adapt\"], 246, 350%\n",
      "[\"geoeng\", \"remove\"], 184, 236%\n",
      "[\"adapt\"] has no solution.\n"
     ]
    }
   ],
   "source": [
    "min_value = Inf\n",
    "for (index, value) in pairs(results)\n",
    "    if (value[\"status\"] == \"Solve_Succeeded\") & (value[\"NPV\"] < min_value)\n",
    "        min_value = value[\"NPV\"]\n",
    "    end\n",
    "end\n",
    "\n",
    "for (index, value) in pairs(results)\n",
    "    if (value[\"status\"] == \"Solve_Succeeded\")\n",
    "        abs_value = Int64(round((value[\"NPV\"])))\n",
    "        rel_value = Int64(round((value[\"NPV\"]/min_value - 1.)*100))\n",
    "        print(\"$index, $abs_value, $rel_value%\\n\")\n",
    "    else\n",
    "        print(\"$index has no solution.\\n\")\n",
    "    end\n",
    "end\n"
   ]
  },
  {
   "cell_type": "code",
   "execution_count": null,
   "metadata": {},
   "outputs": [],
   "source": []
  },
  {
   "cell_type": "code",
   "execution_count": null,
   "metadata": {},
   "outputs": [],
   "source": []
  },
  {
   "cell_type": "code",
   "execution_count": null,
   "metadata": {},
   "outputs": [],
   "source": []
  }
 ],
 "metadata": {
  "kernelspec": {
   "display_name": "Julia 1.3.1",
   "language": "julia",
   "name": "julia-1.3"
  },
  "language_info": {
   "file_extension": ".jl",
   "mimetype": "application/julia",
   "name": "julia",
   "version": "1.3.1"
  }
 },
 "nbformat": 4,
 "nbformat_minor": 4
}
