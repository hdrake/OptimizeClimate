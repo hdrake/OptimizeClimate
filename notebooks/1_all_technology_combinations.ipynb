{
 "cells": [
  {
   "cell_type": "code",
   "execution_count": 18,
   "metadata": {},
   "outputs": [],
   "source": [
    "using PyPlot\n",
    "using JuMP, Ipopt\n",
    "using Combinatorics"
   ]
  },
  {
   "cell_type": "code",
   "execution_count": 19,
   "metadata": {},
   "outputs": [],
   "source": [
    "include(\"../src/model.jl\");\n",
    "include(\"../src/diagnostics.jl\");\n",
    "include(\"../src/optimization.jl\");\n",
    "include(\"../src/plotting.jl\");\n",
    "include(\"../src/defaults.jl\");"
   ]
  },
  {
   "cell_type": "markdown",
   "metadata": {},
   "source": [
    "# Optimizating the Global Climate Action Policy Portfolio"
   ]
  },
  {
   "cell_type": "code",
   "execution_count": 20,
   "metadata": {},
   "outputs": [
    {
     "data": {
      "text/plain": [
       "Dict{String,Float64} with 4 entries:\n",
       "  \"geoeng\"   => 1.0\n",
       "  \"mitigate\" => 1.0\n",
       "  \"remove\"   => 1.0\n",
       "  \"adapt\"    => 0.333333"
      ]
     },
     "execution_count": 20,
     "metadata": {},
     "output_type": "execute_result"
    }
   ],
   "source": [
    "model_og = ClimateModel();\n",
    "max_deployment_og = Dict(\"mitigate\"=>1., \"remove\"=>1., \"geoeng\"=>1., \"adapt\"=>1. /3.)"
   ]
  },
  {
   "cell_type": "code",
   "execution_count": 21,
   "metadata": {},
   "outputs": [],
   "source": [
    "controls = collect(keys(max_deployment_og));"
   ]
  },
  {
   "cell_type": "code",
   "execution_count": 22,
   "metadata": {},
   "outputs": [
    {
     "data": {
      "text/plain": [
       "15-element Array{Array{String,1},1}:\n",
       " [\"geoeng\"]                               \n",
       " [\"mitigate\"]                             \n",
       " [\"remove\"]                               \n",
       " [\"adapt\"]                                \n",
       " [\"geoeng\", \"mitigate\"]                   \n",
       " [\"geoeng\", \"remove\"]                     \n",
       " [\"geoeng\", \"adapt\"]                      \n",
       " [\"mitigate\", \"remove\"]                   \n",
       " [\"mitigate\", \"adapt\"]                    \n",
       " [\"remove\", \"adapt\"]                      \n",
       " [\"geoeng\", \"mitigate\", \"remove\"]         \n",
       " [\"geoeng\", \"mitigate\", \"adapt\"]          \n",
       " [\"geoeng\", \"remove\", \"adapt\"]            \n",
       " [\"mitigate\", \"remove\", \"adapt\"]          \n",
       " [\"geoeng\", \"mitigate\", \"remove\", \"adapt\"]"
      ]
     },
     "execution_count": 22,
     "metadata": {},
     "output_type": "execute_result"
    }
   ],
   "source": [
    "control_permutations = combinations(controls) |> collect"
   ]
  },
  {
   "cell_type": "code",
   "execution_count": 23,
   "metadata": {},
   "outputs": [
    {
     "name": "stdout",
     "output_type": "stream",
     "text": [
      "Solve_Succeeded\n",
      "  3.414886 seconds (4.08 M allocations: 198.666 MiB, 2.23% gc time)\n",
      "Solve_Succeeded\n",
      "  0.032570 seconds (86.40 k allocations: 3.909 MiB)\n",
      "Solve_Succeeded\n",
      "  0.109533 seconds (187.69 k allocations: 5.797 MiB, 31.65% gc time)\n",
      "Infeasible_Problem_Detected\n",
      "  0.832702 seconds (1.11 M allocations: 20.985 MiB)\n",
      "Solve_Succeeded\n",
      "  0.039716 seconds (89.75 k allocations: 4.016 MiB)\n",
      "Solve_Succeeded\n",
      "  0.029607 seconds (69.99 k allocations: 3.661 MiB)\n",
      "Solve_Succeeded\n",
      "  0.045128 seconds (101.55 k allocations: 4.210 MiB)\n",
      "Solve_Succeeded\n",
      "  0.050715 seconds (112.51 k allocations: 4.428 MiB)\n",
      "Solve_Succeeded\n",
      "  0.043744 seconds (106.02 k allocations: 4.310 MiB)\n",
      "Solve_Succeeded\n",
      "  0.042338 seconds (108.75 k allocations: 4.355 MiB)\n",
      "Solve_Succeeded\n",
      "  0.040770 seconds (100.75 k allocations: 4.261 MiB)\n",
      "Solve_Succeeded\n",
      "  0.041223 seconds (101.21 k allocations: 4.272 MiB)\n",
      "Solve_Succeeded\n",
      "  0.032503 seconds (80.83 k allocations: 3.894 MiB)\n",
      "Solve_Succeeded\n",
      "  0.059808 seconds (116.87 k allocations: 4.564 MiB)\n",
      "Solve_Succeeded\n",
      "  0.053297 seconds (105.59 k allocations: 4.400 MiB)\n"
     ]
    }
   ],
   "source": [
    "results = Dict()\n",
    "\n",
    "for control_permutation in control_permutations    \n",
    "    # Assert that some controls not be deployed\n",
    "    max_deployment = copy(max_deployment_og)\n",
    "    for control in controls\n",
    "        if ~(control in control_permutation)\n",
    "            max_deployment[control] = 0\n",
    "        end\n",
    "    end\n",
    "    \n",
    "    model = ClimateModel();\n",
    "    @time m = optimize_controls!(model, max_deployment = max_deployment);\n",
    "    \n",
    "    results[control_permutation] = Dict(\"NPV\" => discounted_total_control_cost(model), \"status\" => raw_status(m))\n",
    "    \n",
    "end"
   ]
  },
  {
   "cell_type": "code",
   "execution_count": 24,
   "metadata": {},
   "outputs": [
    {
     "name": "stdout",
     "output_type": "stream",
     "text": [
      "[\"geoeng\", \"mitigate\", \"remove\"], 56, 4%\n",
      "[\"remove\"], 328, 507%\n",
      "[\"mitigate\", \"remove\"], 61, 14%\n",
      "[\"mitigate\"], 84, 56%\n",
      "[\"geoeng\", \"mitigate\", \"remove\", \"adapt\"], 54, 0%\n",
      "[\"geoeng\", \"adapt\"], 302, 459%\n",
      "[\"geoeng\", \"mitigate\", \"adapt\"], 69, 28%\n",
      "[\"mitigate\", \"remove\", \"adapt\"], 59, 10%\n",
      "[\"geoeng\"], 420, 678%\n",
      "[\"geoeng\", \"remove\", \"adapt\"], 149, 177%\n",
      "[\"mitigate\", \"adapt\"], 79, 46%\n",
      "[\"geoeng\", \"mitigate\"], 73, 36%\n",
      "[\"remove\", \"adapt\"], 252, 366%\n",
      "[\"geoeng\", \"remove\"], 189, 250%\n",
      "[\"adapt\"] has no solution.\n"
     ]
    }
   ],
   "source": [
    "min_value = Inf\n",
    "for (index, value) in pairs(results)\n",
    "    if (value[\"status\"] == \"Solve_Succeeded\") & (value[\"NPV\"] < min_value)\n",
    "        min_value = value[\"NPV\"]\n",
    "    end\n",
    "end\n",
    "\n",
    "for (index, value) in pairs(results)\n",
    "    if (value[\"status\"] == \"Solve_Succeeded\")\n",
    "        abs_value = Int64(round((value[\"NPV\"])))\n",
    "        rel_value = Int64(round((value[\"NPV\"]/min_value - 1.)*100))\n",
    "        print(\"$index, $abs_value, $rel_value%\\n\")\n",
    "    else\n",
    "        print(\"$index has no solution.\\n\")\n",
    "    end\n",
    "end\n"
   ]
  },
  {
   "cell_type": "code",
   "execution_count": null,
   "metadata": {},
   "outputs": [],
   "source": []
  },
  {
   "cell_type": "code",
   "execution_count": null,
   "metadata": {},
   "outputs": [],
   "source": []
  },
  {
   "cell_type": "code",
   "execution_count": null,
   "metadata": {},
   "outputs": [],
   "source": []
  }
 ],
 "metadata": {
  "kernelspec": {
   "display_name": "Julia 1.3.1",
   "language": "julia",
   "name": "julia-1.3"
  },
  "language_info": {
   "file_extension": ".jl",
   "mimetype": "application/julia",
   "name": "julia",
   "version": "1.3.1"
  }
 },
 "nbformat": 4,
 "nbformat_minor": 4
}
