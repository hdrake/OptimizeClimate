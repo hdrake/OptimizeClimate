{
 "cells": [
  {
   "cell_type": "code",
   "execution_count": 1,
   "metadata": {},
   "outputs": [],
   "source": [
    "using PyPlot\n",
    "using JuMP, Ipopt\n",
    "using Combinatorics"
   ]
  },
  {
   "cell_type": "code",
   "execution_count": 2,
   "metadata": {},
   "outputs": [],
   "source": [
    "include(\"../src/model.jl\");\n",
    "include(\"../src/diagnostics.jl\");\n",
    "include(\"../src/optimization.jl\");\n",
    "include(\"../src/plotting.jl\");\n",
    "include(\"../src/defaults.jl\");"
   ]
  },
  {
   "cell_type": "markdown",
   "metadata": {},
   "source": [
    "# Optimizating the Global Climate Action Policy Portfolio"
   ]
  },
  {
   "cell_type": "code",
   "execution_count": 3,
   "metadata": {},
   "outputs": [
    {
     "data": {
      "text/plain": [
       "Dict{String,Float64} with 4 entries:\n",
       "  \"geoeng\"   => 1.0\n",
       "  \"mitigate\" => 1.0\n",
       "  \"remove\"   => 1.0\n",
       "  \"adapt\"    => 0.333333"
      ]
     },
     "execution_count": 3,
     "metadata": {},
     "output_type": "execute_result"
    }
   ],
   "source": [
    "model_og = ClimateModel();\n",
    "max_deployment_og = Dict(\"mitigate\"=>1., \"remove\"=>1., \"geoeng\"=>1., \"adapt\"=>1. /3.)"
   ]
  },
  {
   "cell_type": "code",
   "execution_count": 4,
   "metadata": {},
   "outputs": [],
   "source": [
    "controls = collect(keys(max_deployment_og));"
   ]
  },
  {
   "cell_type": "code",
   "execution_count": 5,
   "metadata": {},
   "outputs": [
    {
     "data": {
      "text/plain": [
       "15-element Array{Array{String,1},1}:\n",
       " [\"geoeng\"]                               \n",
       " [\"mitigate\"]                             \n",
       " [\"remove\"]                               \n",
       " [\"adapt\"]                                \n",
       " [\"geoeng\", \"mitigate\"]                   \n",
       " [\"geoeng\", \"remove\"]                     \n",
       " [\"geoeng\", \"adapt\"]                      \n",
       " [\"mitigate\", \"remove\"]                   \n",
       " [\"mitigate\", \"adapt\"]                    \n",
       " [\"remove\", \"adapt\"]                      \n",
       " [\"geoeng\", \"mitigate\", \"remove\"]         \n",
       " [\"geoeng\", \"mitigate\", \"adapt\"]          \n",
       " [\"geoeng\", \"remove\", \"adapt\"]            \n",
       " [\"mitigate\", \"remove\", \"adapt\"]          \n",
       " [\"geoeng\", \"mitigate\", \"remove\", \"adapt\"]"
      ]
     },
     "execution_count": 5,
     "metadata": {},
     "output_type": "execute_result"
    }
   ],
   "source": [
    "control_permutations = combinations(controls) |> collect"
   ]
  },
  {
   "cell_type": "code",
   "execution_count": 6,
   "metadata": {},
   "outputs": [
    {
     "name": "stdout",
     "output_type": "stream",
     "text": [
      "\n",
      "******************************************************************************\n",
      "This program contains Ipopt, a library for large-scale nonlinear optimization.\n",
      " Ipopt is released as open source code under the Eclipse Public License (EPL).\n",
      "         For more information visit http://projects.coin-or.org/Ipopt\n",
      "******************************************************************************\n",
      "\n",
      "Solve_Succeeded\n",
      " 36.589800 seconds (111.33 M allocations: 6.323 GiB, 5.46% gc time)\n",
      "Solve_Succeeded\n",
      "  0.037723 seconds (94.28 k allocations: 4.051 MiB)\n",
      "Solve_Succeeded\n",
      "  0.066116 seconds (182.91 k allocations: 5.711 MiB)\n",
      "Infeasible_Problem_Detected\n",
      "  0.989484 seconds (1.55 M allocations: 28.428 MiB, 2.69% gc time)\n",
      "Solve_Succeeded\n",
      "  0.049137 seconds (89.75 k allocations: 4.016 MiB)\n",
      "Solve_Succeeded\n",
      "  0.028723 seconds (71.90 k allocations: 3.693 MiB)\n",
      "Solve_Succeeded\n",
      "  0.036886 seconds (107.20 k allocations: 4.293 MiB)\n",
      "Solve_Succeeded\n",
      "  0.055833 seconds (115.51 k allocations: 4.482 MiB)\n",
      "Solve_Succeeded\n",
      "  0.043178 seconds (106.16 k allocations: 4.319 MiB)\n",
      "Solve_Succeeded\n",
      "  0.049621 seconds (105.74 k allocations: 4.303 MiB)\n",
      "Solve_Succeeded\n",
      "  0.040589 seconds (100.89 k allocations: 4.271 MiB)\n",
      "Solve_Succeeded\n",
      "  0.045826 seconds (101.21 k allocations: 4.272 MiB)\n",
      "Solve_Succeeded\n",
      "  0.031423 seconds (86.24 k allocations: 3.985 MiB)\n",
      "Solve_Succeeded\n",
      "  0.053889 seconds (127.35 k allocations: 4.770 MiB)\n",
      "Solve_Succeeded\n",
      "  0.047768 seconds (109.26 k allocations: 4.465 MiB)\n"
     ]
    }
   ],
   "source": [
    "results = Dict()\n",
    "\n",
    "for control_permutation in control_permutations    \n",
    "    # Assert that some controls not be deployed\n",
    "    max_deployment = copy(max_deployment_og)\n",
    "    for control in controls\n",
    "        if ~(control in control_permutation)\n",
    "            max_deployment[control] = 0\n",
    "        end\n",
    "    end\n",
    "    \n",
    "    model = ClimateModel();\n",
    "    @time m = optimize_controls!(model, max_deployment = max_deployment);\n",
    "    \n",
    "    results[control_permutation] = Dict(\"NPV\" => discounted_total_control_cost(model), \"status\" => raw_status(m))\n",
    "    \n",
    "end"
   ]
  },
  {
   "cell_type": "code",
   "execution_count": 7,
   "metadata": {},
   "outputs": [
    {
     "name": "stdout",
     "output_type": "stream",
     "text": [
      "[\"geoeng\", \"mitigate\", \"remove\"], 56, 2%\n",
      "[\"remove\"], 262, 372%\n",
      "[\"mitigate\", \"remove\"], 62, 11%\n",
      "[\"mitigate\"], 90, 62%\n",
      "[\"geoeng\", \"mitigate\", \"remove\", \"adapt\"], 55, 0%\n",
      "[\"geoeng\", \"adapt\"], 346, 524%\n",
      "[\"geoeng\", \"mitigate\", \"adapt\"], 76, 38%\n",
      "[\"mitigate\", \"remove\", \"adapt\"], 60, 9%\n",
      "[\"geoeng\"], 459, 727%\n",
      "[\"geoeng\", \"remove\", \"adapt\"], 152, 175%\n",
      "[\"mitigate\", \"adapt\"], 87, 58%\n",
      "[\"geoeng\", \"mitigate\"], 79, 42%\n",
      "[\"remove\", \"adapt\"], 225, 305%\n",
      "[\"geoeng\", \"remove\"], 170, 207%\n",
      "[\"adapt\"] has no solution."
     ]
    }
   ],
   "source": [
    "min_value = Inf\n",
    "for (index, value) in pairs(results)\n",
    "    if (value[\"status\"] == \"Solve_Succeeded\") & (value[\"NPV\"] < min_value)\n",
    "        min_value = value[\"NPV\"]\n",
    "    end\n",
    "end\n",
    "\n",
    "for (index, value) in pairs(results)\n",
    "    if (value[\"status\"] == \"Solve_Succeeded\")\n",
    "        abs_value = Int64(round((value[\"NPV\"])))\n",
    "        rel_value = Int64(round((value[\"NPV\"]/min_value - 1.)*100))\n",
    "        print(\"$index, $abs_value, $rel_value%\\n\")\n",
    "    else\n",
    "        print(\"$index has no solution.\")\n",
    "    end\n",
    "end\n"
   ]
  },
  {
   "cell_type": "code",
   "execution_count": null,
   "metadata": {},
   "outputs": [],
   "source": []
  },
  {
   "cell_type": "code",
   "execution_count": null,
   "metadata": {},
   "outputs": [],
   "source": []
  }
 ],
 "metadata": {
  "kernelspec": {
   "display_name": "Julia 1.3.1",
   "language": "julia",
   "name": "julia-1.3"
  },
  "language_info": {
   "file_extension": ".jl",
   "mimetype": "application/julia",
   "name": "julia",
   "version": "1.3.1"
  }
 },
 "nbformat": 4,
 "nbformat_minor": 4
}
