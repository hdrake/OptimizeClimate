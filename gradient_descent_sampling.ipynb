{
 "cells": [
  {
   "cell_type": "code",
   "execution_count": 1,
   "metadata": {},
   "outputs": [],
   "source": [
    "using PyPlot\n",
    "using Random\n",
    "using Distributions"
   ]
  },
  {
   "cell_type": "code",
   "execution_count": null,
   "metadata": {},
   "outputs": [],
   "source": [
    "include(\"model.jl\");\n",
    "include(\"ensemble.jl\");\n",
    "include(\"diagnostics.jl\");\n",
    "include(\"optimize.jl\");\n",
    "include(\"plotting.jl\");"
   ]
  },
  {
   "cell_type": "code",
   "execution_count": null,
   "metadata": {},
   "outputs": [],
   "source": [
    "t = Array(2020:1.:2100);\n",
    "β = 1.5 # damages (trillion $ / celsius^2)\n",
    "utility_discount_rate = 0.014 # low value (stern review)\n",
    "GWP = 100. # global world product (trillion $)\n",
    "reduce_cost = 0.05*GWP\n",
    "remove_cost = 0.15*GWP\n",
    "geoeng_cost = 0.25*GWP\n",
    "adapt_cost = 0.15*GWP\n",
    "economics = Economics(\n",
    "    β, utility_discount_rate,\n",
    "    reduce_cost, remove_cost, geoeng_cost, adapt_cost\n",
    ")"
   ]
  },
  {
   "cell_type": "code",
   "execution_count": null,
   "metadata": {},
   "outputs": [],
   "source": [
    "Random.seed!(1)\n",
    "d = Normal(0.65, 0.13)\n",
    "feedback_samples = rand(d, 500)\n",
    "feedback_samples[feedback_samples .>= 0.999] .= NaN\n",
    "feedback_samples[feedback_samples .<= 0.] .= NaN\n",
    "\n",
    "ECS₀ = 1.2\n",
    "ECS_samples = ECS₀ ./ (1. .-feedback_samples);"
   ]
  },
  {
   "cell_type": "code",
   "execution_count": null,
   "metadata": {},
   "outputs": [],
   "source": [
    "hist(ECS_samples, bins=0.:0.5:20.)\n",
    "xlim([0,10])"
   ]
  },
  {
   "cell_type": "code",
   "execution_count": null,
   "metadata": {},
   "outputs": [],
   "source": [
    "ensemble = Dict{String, ClimateModel}();\n",
    "first = true\n",
    "for member_id in 1:length(ECS_samples)\n",
    "    ECS = ECS_samples[member_id]\n",
    "    name = \"member $member_id\";\n",
    "    controls = init_linear_controls(t);\n",
    "    model = ClimateModel(name, ECS, t, controls, economics);\n",
    "    optimize!(model)\n",
    "    \n",
    "    if CO₂(model)[end-1] < 1.e5\n",
    "        ensemble[name] = model\n",
    "    end\n",
    "        \n",
    "    if first; plot_setup(model); first=false; end\n",
    "end"
   ]
  },
  {
   "cell_type": "code",
   "execution_count": null,
   "metadata": {},
   "outputs": [],
   "source": [
    "plot_ensemble_stats(ensemble, t)"
   ]
  },
  {
   "cell_type": "code",
   "execution_count": null,
   "metadata": {},
   "outputs": [],
   "source": []
  }
 ],
 "metadata": {
  "kernelspec": {
   "display_name": "Julia 1.2.0",
   "language": "julia",
   "name": "julia-1.2"
  },
  "language_info": {
   "file_extension": ".jl",
   "mimetype": "application/julia",
   "name": "julia",
   "version": "1.2.0"
  }
 },
 "nbformat": 4,
 "nbformat_minor": 4
}
